{
  "nbformat": 4,
  "nbformat_minor": 0,
  "metadata": {
    "colab": {
      "name": "activation_word.ipynb",
      "version": "0.3.2",
      "provenance": []
    },
    "kernelspec": {
      "name": "python3",
      "display_name": "Python 3"
    },
    "accelerator": "GPU"
  },
  "cells": [
    {
      "metadata": {
        "id": "uKqkW0843qHU",
        "colab_type": "text"
      },
      "cell_type": "markdown",
      "source": [
        "# IDEA \n",
        "**So the idea of this program is that it recognizes trigger words said by a particular person, in this case me. And this could be integrated in a security system**\n",
        "\n",
        "**we convert a recording to a wav img and then pass it to a cnn to classify it**"
      ]
    },
    {
      "metadata": {
        "id": "jaLzmB9VXy21",
        "colab_type": "code",
        "outputId": "df35aba7-95b1-4a6b-8a40-9cf4454a1c90",
        "colab": {
          "base_uri": "https://localhost:8080/",
          "height": 51
        }
      },
      "cell_type": "code",
      "source": [
        "#to get the latest update of fast ai \n",
        "!curl -s https://course.fast.ai/setup/colab | bash"
      ],
      "execution_count": 0,
      "outputs": [
        {
          "output_type": "stream",
          "text": [
            "Updating fastai...\n",
            "Done.\n"
          ],
          "name": "stdout"
        }
      ]
    },
    {
      "metadata": {
        "id": "natHPkPorDa0",
        "colab_type": "code",
        "outputId": "329268f0-9420-4a58-b172-1277de8a6a6f",
        "colab": {
          "base_uri": "https://localhost:8080/",
          "height": 34
        }
      },
      "cell_type": "code",
      "source": [
        "#since this was done on colab, I imported my dataset from drive\n",
        "from google.colab import drive \n",
        "drive.mount('/content/drive', force_remount = True)"
      ],
      "execution_count": 0,
      "outputs": [
        {
          "output_type": "stream",
          "text": [
            "Mounted at /content/drive\n"
          ],
          "name": "stdout"
        }
      ]
    },
    {
      "metadata": {
        "id": "67uyS8xHsYwS",
        "colab_type": "code",
        "colab": {}
      },
      "cell_type": "code",
      "source": [
        "%reload_ext autoreload\n",
        "%autoreload 2\n",
        "%matplotlib inline"
      ],
      "execution_count": 0,
      "outputs": []
    },
    {
      "metadata": {
        "id": "zEbyULWosuqY",
        "colab_type": "code",
        "colab": {}
      },
      "cell_type": "code",
      "source": [
        "#importing libs \n",
        "from fastai.vision import *\n",
        "from fastai.metrics import error_rate\n",
        "from fastai.widgets import *"
      ],
      "execution_count": 0,
      "outputs": []
    },
    {
      "metadata": {
        "id": "CUnM5RAXs1Ul",
        "colab_type": "code",
        "colab": {}
      },
      "cell_type": "code",
      "source": [
        "#I have a very small dataset, 30 training imgs in total, so there was no use in making it into batches \n",
        "bs = 30"
      ],
      "execution_count": 0,
      "outputs": []
    },
    {
      "metadata": {
        "id": "UyTD8xwht58K",
        "colab_type": "code",
        "colab": {}
      },
      "cell_type": "code",
      "source": [
        "#create a data object\n",
        "path = '/content/drive/My Drive/Data (1)' \n",
        "tfms = get_transforms(do_flip = False) \n",
        "data = ImageDataBunch.from_folder(path, ds_tfms = tfms, size = 224, bs = 15).normalize(imagenet_stats)"
      ],
      "execution_count": 0,
      "outputs": []
    },
    {
      "metadata": {
        "id": "h9stasHLu_08",
        "colab_type": "code",
        "outputId": "39112495-beee-4bd6-cf50-602be8ef580a",
        "colab": {
          "base_uri": "https://localhost:8080/",
          "height": 729
        }
      },
      "cell_type": "code",
      "source": [
        "data.show_batch(rows=3, figsize=(7,6))"
      ],
      "execution_count": 0,
      "outputs": [
        {
          "output_type": "display_data",
          "data": {
            "image/png": "[encoded data removed]",
            "text/plain": [
              "<Figure size 720x720 with 1 Axes>"
            ]
          },
          "metadata": {
            "tags": []
          }
        }
      ]
    },
    {
      "metadata": {
        "id": "XdbKTsJ0F5-u",
        "colab_type": "code",
        "outputId": "db9f6846-b431-4efd-bb88-08fb1c2285ac",
        "colab": {
          "base_uri": "https://localhost:8080/",
          "height": 34
        }
      },
      "cell_type": "code",
      "source": [
        "data.classes"
      ],
      "execution_count": 0,
      "outputs": [
        {
          "output_type": "execute_result",
          "data": {
            "text/plain": [
              "['Mohamed', 'Other']"
            ]
          },
          "metadata": {
            "tags": []
          },
          "execution_count": 9
        }
      ]
    },
    {
      "metadata": {
        "id": "ybIJrJwsGmR0",
        "colab_type": "code",
        "colab": {}
      },
      "cell_type": "code",
      "source": [
        "#create a learner...\n",
        "learn = create_cnn(data, models.resnet50, metrics = error_rate)"
      ],
      "execution_count": 0,
      "outputs": []
    },
    {
      "metadata": {
        "id": "c9Ujjb4eG8cd",
        "colab_type": "code",
        "outputId": "94551acf-cea8-48c1-d2fd-2595e1fc4c93",
        "colab": {
          "base_uri": "https://localhost:8080/",
          "height": 1272
        }
      },
      "cell_type": "code",
      "source": [
        "#finding optimal learning rates\n",
        "learn.lr_find() \n",
        "learn.recorder.plot()"
      ],
      "execution_count": 0,
      "outputs": [
        {
          "output_type": "display_data",
          "data": {
            "text/html": [
              "\n",
              "    <div>\n",
              "        <style>\n",
              "            /* Turns off some styling */\n",
              "            progress {\n",
              "                /* gets rid of default border in Firefox and Opera. */\n",
              "                border: none;\n",
              "                /* Needs to be in here for Safari polyfill so background images work as expected. */\n",
              "                background-size: auto;\n",
              "            }\n",
              "            .progress-bar-interrupted, .progress-bar-interrupted::-webkit-progress-bar {\n",
              "                background: #F44336;\n",
              "            }\n",
              "        </style>\n",
              "      <progress value='43' class='' max='50', style='width:300px; height:20px; vertical-align: middle;'></progress>\n",
              "      86.00% [43/50 01:40<00:16]\n",
              "    </div>\n",
              "    \n",
              "<table style='width:300px; margin-bottom:10px'>\n",
              "  <tr>\n",
              "    <th>epoch</th>\n",
              "    <th>train_loss</th>\n",
              "    <th>valid_loss</th>\n",
              "    <th>error_rate</th>\n",
              "  </tr>\n",
              "  <tr>\n",
              "    <th>1</th>\n",
              "    <th>0.906407</th>\n",
              "  </tr>\n",
              "  <tr>\n",
              "    <th>2</th>\n",
              "    <th>0.904264</th>\n",
              "  </tr>\n",
              "  <tr>\n",
              "    <th>3</th>\n",
              "    <th>0.839909</th>\n",
              "  </tr>\n",
              "  <tr>\n",
              "    <th>4</th>\n",
              "    <th>0.863582</th>\n",
              "  </tr>\n",
              "  <tr>\n",
              "    <th>5</th>\n",
              "    <th>0.919521</th>\n",
              "  </tr>\n",
              "  <tr>\n",
              "    <th>6</th>\n",
              "    <th>0.857213</th>\n",
              "  </tr>\n",
              "  <tr>\n",
              "    <th>7</th>\n",
              "    <th>0.840105</th>\n",
              "  </tr>\n",
              "  <tr>\n",
              "    <th>8</th>\n",
              "    <th>0.897230</th>\n",
              "  </tr>\n",
              "  <tr>\n",
              "    <th>9</th>\n",
              "    <th>0.869925</th>\n",
              "  </tr>\n",
              "  <tr>\n",
              "    <th>10</th>\n",
              "    <th>0.908862</th>\n",
              "  </tr>\n",
              "  <tr>\n",
              "    <th>11</th>\n",
              "    <th>0.911937</th>\n",
              "  </tr>\n",
              "  <tr>\n",
              "    <th>12</th>\n",
              "    <th>0.916280</th>\n",
              "  </tr>\n",
              "  <tr>\n",
              "    <th>13</th>\n",
              "    <th>0.933703</th>\n",
              "  </tr>\n",
              "  <tr>\n",
              "    <th>14</th>\n",
              "    <th>0.948551</th>\n",
              "  </tr>\n",
              "  <tr>\n",
              "    <th>15</th>\n",
              "    <th>0.950190</th>\n",
              "  </tr>\n",
              "  <tr>\n",
              "    <th>16</th>\n",
              "    <th>0.965205</th>\n",
              "  </tr>\n",
              "  <tr>\n",
              "    <th>17</th>\n",
              "    <th>0.950157</th>\n",
              "  </tr>\n",
              "  <tr>\n",
              "    <th>18</th>\n",
              "    <th>0.934912</th>\n",
              "  </tr>\n",
              "  <tr>\n",
              "    <th>19</th>\n",
              "    <th>0.920845</th>\n",
              "  </tr>\n",
              "  <tr>\n",
              "    <th>20</th>\n",
              "    <th>0.921687</th>\n",
              "  </tr>\n",
              "  <tr>\n",
              "    <th>21</th>\n",
              "    <th>0.909390</th>\n",
              "  </tr>\n",
              "  <tr>\n",
              "    <th>22</th>\n",
              "    <th>0.887632</th>\n",
              "  </tr>\n",
              "  <tr>\n",
              "    <th>23</th>\n",
              "    <th>0.861597</th>\n",
              "  </tr>\n",
              "  <tr>\n",
              "    <th>24</th>\n",
              "    <th>0.838253</th>\n",
              "  </tr>\n",
              "  <tr>\n",
              "    <th>25</th>\n",
              "    <th>0.831353</th>\n",
              "  </tr>\n",
              "  <tr>\n",
              "    <th>26</th>\n",
              "    <th>0.826120</th>\n",
              "  </tr>\n",
              "  <tr>\n",
              "    <th>27</th>\n",
              "    <th>0.815449</th>\n",
              "  </tr>\n",
              "  <tr>\n",
              "    <th>28</th>\n",
              "    <th>0.788894</th>\n",
              "  </tr>\n",
              "  <tr>\n",
              "    <th>29</th>\n",
              "    <th>0.779530</th>\n",
              "  </tr>\n",
              "  <tr>\n",
              "    <th>30</th>\n",
              "    <th>0.770124</th>\n",
              "  </tr>\n",
              "  <tr>\n",
              "    <th>31</th>\n",
              "    <th>0.754667</th>\n",
              "  </tr>\n",
              "  <tr>\n",
              "    <th>32</th>\n",
              "    <th>0.760153</th>\n",
              "  </tr>\n",
              "  <tr>\n",
              "    <th>33</th>\n",
              "    <th>0.751721</th>\n",
              "  </tr>\n",
              "  <tr>\n",
              "    <th>34</th>\n",
              "    <th>0.759719</th>\n",
              "  </tr>\n",
              "  <tr>\n",
              "    <th>35</th>\n",
              "    <th>0.747252</th>\n",
              "  </tr>\n",
              "  <tr>\n",
              "    <th>36</th>\n",
              "    <th>0.733283</th>\n",
              "  </tr>\n",
              "  <tr>\n",
              "    <th>37</th>\n",
              "    <th>0.730312</th>\n",
              "  </tr>\n",
              "  <tr>\n",
              "    <th>38</th>\n",
              "    <th>0.758778</th>\n",
              "  </tr>\n",
              "  <tr>\n",
              "    <th>39</th>\n",
              "    <th>0.762292</th>\n",
              "  </tr>\n",
              "  <tr>\n",
              "    <th>40</th>\n",
              "    <th>0.800751</th>\n",
              "  </tr>\n",
              "  <tr>\n",
              "    <th>41</th>\n",
              "    <th>0.855658</th>\n",
              "  </tr>\n",
              "  <tr>\n",
              "    <th>42</th>\n",
              "    <th>1.004547</th>\n",
              "  </tr>\n",
              "  <tr>\n",
              "    <th>43</th>\n",
              "    <th>2.716995</th>\n",
              "  </tr>\n",
              "</table>\n",
              "\n",
              "\n",
              "    <div>\n",
              "        <style>\n",
              "            /* Turns off some styling */\n",
              "            progress {\n",
              "                /* gets rid of default border in Firefox and Opera. */\n",
              "                border: none;\n",
              "                /* Needs to be in here for Safari polyfill so background images work as expected. */\n",
              "                background-size: auto;\n",
              "            }\n",
              "            .progress-bar-interrupted, .progress-bar-interrupted::-webkit-progress-bar {\n",
              "                background: #F44336;\n",
              "            }\n",
              "        </style>\n",
              "      <progress value='0' class='progress-bar-interrupted' max='2', style='width:300px; height:20px; vertical-align: middle;'></progress>\n",
              "      Interrupted\n",
              "    </div>\n",
              "    "
            ],
            "text/plain": [
              "<IPython.core.display.HTML object>"
            ]
          },
          "metadata": {
            "tags": []
          }
        },
        {
          "output_type": "stream",
          "text": [
            "LR Finder is complete, type {learner_name}.recorder.plot() to see the graph.\n"
          ],
          "name": "stdout"
        },
        {
          "output_type": "display_data",
          "data": {
            "image/png": "[encoded data removed]",
            "text/plain": [
              "<Figure size 432x288 with 1 Axes>"
            ]
          },
          "metadata": {
            "tags": []
          }
        }
      ]
    },
    {
      "metadata": {
        "id": "B9WLIFFCHLbb",
        "colab_type": "code",
        "outputId": "a43b264e-9abf-493d-e6d1-44b9b0e56916",
        "colab": {
          "base_uri": "https://localhost:8080/",
          "height": 1123
        }
      },
      "cell_type": "code",
      "source": [
        "# fit for 50 epochs \n",
        "learn.fit_one_cycle(50)"
      ],
      "execution_count": 0,
      "outputs": [
        {
          "output_type": "display_data",
          "data": {
            "text/html": [
              "Total time: 02:26 <p><table style='width:300px; margin-bottom:10px'>\n",
              "  <tr>\n",
              "    <th>epoch</th>\n",
              "    <th>train_loss</th>\n",
              "    <th>valid_loss</th>\n",
              "    <th>error_rate</th>\n",
              "  </tr>\n",
              "  <tr>\n",
              "    <th>1</th>\n",
              "    <th>1.160047</th>\n",
              "    <th>0.608954</th>\n",
              "    <th>0.300000</th>\n",
              "  </tr>\n",
              "  <tr>\n",
              "    <th>2</th>\n",
              "    <th>0.912849</th>\n",
              "    <th>0.573746</th>\n",
              "    <th>0.300000</th>\n",
              "  </tr>\n",
              "  <tr>\n",
              "    <th>3</th>\n",
              "    <th>0.829955</th>\n",
              "    <th>0.552094</th>\n",
              "    <th>0.300000</th>\n",
              "  </tr>\n",
              "  <tr>\n",
              "    <th>4</th>\n",
              "    <th>0.797869</th>\n",
              "    <th>0.593178</th>\n",
              "    <th>0.300000</th>\n",
              "  </tr>\n",
              "  <tr>\n",
              "    <th>5</th>\n",
              "    <th>0.750085</th>\n",
              "    <th>0.531926</th>\n",
              "    <th>0.200000</th>\n",
              "  </tr>\n",
              "  <tr>\n",
              "    <th>6</th>\n",
              "    <th>0.699417</th>\n",
              "    <th>0.374665</th>\n",
              "    <th>0.200000</th>\n",
              "  </tr>\n",
              "  <tr>\n",
              "    <th>7</th>\n",
              "    <th>0.703981</th>\n",
              "    <th>0.197512</th>\n",
              "    <th>0.100000</th>\n",
              "  </tr>\n",
              "  <tr>\n",
              "    <th>8</th>\n",
              "    <th>0.668003</th>\n",
              "    <th>0.098141</th>\n",
              "    <th>0.000000</th>\n",
              "  </tr>\n",
              "  <tr>\n",
              "    <th>9</th>\n",
              "    <th>0.606437</th>\n",
              "    <th>0.093941</th>\n",
              "    <th>0.000000</th>\n",
              "  </tr>\n",
              "  <tr>\n",
              "    <th>10</th>\n",
              "    <th>0.556867</th>\n",
              "    <th>0.062975</th>\n",
              "    <th>0.000000</th>\n",
              "  </tr>\n",
              "  <tr>\n",
              "    <th>11</th>\n",
              "    <th>0.586269</th>\n",
              "    <th>0.047472</th>\n",
              "    <th>0.000000</th>\n",
              "  </tr>\n",
              "  <tr>\n",
              "    <th>12</th>\n",
              "    <th>0.606059</th>\n",
              "    <th>0.071277</th>\n",
              "    <th>0.000000</th>\n",
              "  </tr>\n",
              "  <tr>\n",
              "    <th>13</th>\n",
              "    <th>0.550872</th>\n",
              "    <th>0.169115</th>\n",
              "    <th>0.100000</th>\n",
              "  </tr>\n",
              "  <tr>\n",
              "    <th>14</th>\n",
              "    <th>0.569491</th>\n",
              "    <th>0.283639</th>\n",
              "    <th>0.100000</th>\n",
              "  </tr>\n",
              "  <tr>\n",
              "    <th>15</th>\n",
              "    <th>0.544030</th>\n",
              "    <th>0.356321</th>\n",
              "    <th>0.100000</th>\n",
              "  </tr>\n",
              "  <tr>\n",
              "    <th>16</th>\n",
              "    <th>0.522016</th>\n",
              "    <th>0.404455</th>\n",
              "    <th>0.100000</th>\n",
              "  </tr>\n",
              "  <tr>\n",
              "    <th>17</th>\n",
              "    <th>0.496756</th>\n",
              "    <th>0.450063</th>\n",
              "    <th>0.100000</th>\n",
              "  </tr>\n",
              "  <tr>\n",
              "    <th>18</th>\n",
              "    <th>0.488467</th>\n",
              "    <th>0.485154</th>\n",
              "    <th>0.100000</th>\n",
              "  </tr>\n",
              "  <tr>\n",
              "    <th>19</th>\n",
              "    <th>0.511020</th>\n",
              "    <th>0.364548</th>\n",
              "    <th>0.100000</th>\n",
              "  </tr>\n",
              "  <tr>\n",
              "    <th>20</th>\n",
              "    <th>0.525099</th>\n",
              "    <th>0.182542</th>\n",
              "    <th>0.100000</th>\n",
              "  </tr>\n",
              "  <tr>\n",
              "    <th>21</th>\n",
              "    <th>0.518997</th>\n",
              "    <th>0.092405</th>\n",
              "    <th>0.100000</th>\n",
              "  </tr>\n",
              "  <tr>\n",
              "    <th>22</th>\n",
              "    <th>0.520685</th>\n",
              "    <th>0.084260</th>\n",
              "    <th>0.100000</th>\n",
              "  </tr>\n",
              "  <tr>\n",
              "    <th>23</th>\n",
              "    <th>0.501689</th>\n",
              "    <th>0.067725</th>\n",
              "    <th>0.000000</th>\n",
              "  </tr>\n",
              "  <tr>\n",
              "    <th>24</th>\n",
              "    <th>0.504703</th>\n",
              "    <th>0.061155</th>\n",
              "    <th>0.000000</th>\n",
              "  </tr>\n",
              "  <tr>\n",
              "    <th>25</th>\n",
              "    <th>0.512467</th>\n",
              "    <th>0.104808</th>\n",
              "    <th>0.100000</th>\n",
              "  </tr>\n",
              "  <tr>\n",
              "    <th>26</th>\n",
              "    <th>0.525235</th>\n",
              "    <th>0.104254</th>\n",
              "    <th>0.100000</th>\n",
              "  </tr>\n",
              "  <tr>\n",
              "    <th>27</th>\n",
              "    <th>0.512927</th>\n",
              "    <th>0.090387</th>\n",
              "    <th>0.100000</th>\n",
              "  </tr>\n",
              "  <tr>\n",
              "    <th>28</th>\n",
              "    <th>0.498297</th>\n",
              "    <th>0.117493</th>\n",
              "    <th>0.100000</th>\n",
              "  </tr>\n",
              "  <tr>\n",
              "    <th>29</th>\n",
              "    <th>0.489670</th>\n",
              "    <th>0.177538</th>\n",
              "    <th>0.100000</th>\n",
              "  </tr>\n",
              "  <tr>\n",
              "    <th>30</th>\n",
              "    <th>0.475976</th>\n",
              "    <th>0.210702</th>\n",
              "    <th>0.100000</th>\n",
              "  </tr>\n",
              "  <tr>\n",
              "    <th>31</th>\n",
              "    <th>0.487079</th>\n",
              "    <th>0.237481</th>\n",
              "    <th>0.100000</th>\n",
              "  </tr>\n",
              "  <tr>\n",
              "    <th>32</th>\n",
              "    <th>0.476127</th>\n",
              "    <th>0.268622</th>\n",
              "    <th>0.100000</th>\n",
              "  </tr>\n",
              "  <tr>\n",
              "    <th>33</th>\n",
              "    <th>0.472350</th>\n",
              "    <th>0.284641</th>\n",
              "    <th>0.100000</th>\n",
              "  </tr>\n",
              "  <tr>\n",
              "    <th>34</th>\n",
              "    <th>0.471326</th>\n",
              "    <th>0.279442</th>\n",
              "    <th>0.100000</th>\n",
              "  </tr>\n",
              "  <tr>\n",
              "    <th>35</th>\n",
              "    <th>0.457536</th>\n",
              "    <th>0.229783</th>\n",
              "    <th>0.100000</th>\n",
              "  </tr>\n",
              "  <tr>\n",
              "    <th>36</th>\n",
              "    <th>0.454489</th>\n",
              "    <th>0.205427</th>\n",
              "    <th>0.100000</th>\n",
              "  </tr>\n",
              "  <tr>\n",
              "    <th>37</th>\n",
              "    <th>0.455528</th>\n",
              "    <th>0.206015</th>\n",
              "    <th>0.100000</th>\n",
              "  </tr>\n",
              "  <tr>\n",
              "    <th>38</th>\n",
              "    <th>0.447862</th>\n",
              "    <th>0.202854</th>\n",
              "    <th>0.100000</th>\n",
              "  </tr>\n",
              "  <tr>\n",
              "    <th>39</th>\n",
              "    <th>0.432596</th>\n",
              "    <th>0.192999</th>\n",
              "    <th>0.100000</th>\n",
              "  </tr>\n",
              "  <tr>\n",
              "    <th>40</th>\n",
              "    <th>0.423447</th>\n",
              "    <th>0.203639</th>\n",
              "    <th>0.100000</th>\n",
              "  </tr>\n",
              "  <tr>\n",
              "    <th>41</th>\n",
              "    <th>0.430052</th>\n",
              "    <th>0.205939</th>\n",
              "    <th>0.100000</th>\n",
              "  </tr>\n",
              "  <tr>\n",
              "    <th>42</th>\n",
              "    <th>0.427367</th>\n",
              "    <th>0.208164</th>\n",
              "    <th>0.100000</th>\n",
              "  </tr>\n",
              "  <tr>\n",
              "    <th>43</th>\n",
              "    <th>0.414971</th>\n",
              "    <th>0.220704</th>\n",
              "    <th>0.100000</th>\n",
              "  </tr>\n",
              "  <tr>\n",
              "    <th>44</th>\n",
              "    <th>0.416224</th>\n",
              "    <th>0.200815</th>\n",
              "    <th>0.100000</th>\n",
              "  </tr>\n",
              "  <tr>\n",
              "    <th>45</th>\n",
              "    <th>0.402659</th>\n",
              "    <th>0.142264</th>\n",
              "    <th>0.100000</th>\n",
              "  </tr>\n",
              "  <tr>\n",
              "    <th>46</th>\n",
              "    <th>0.409567</th>\n",
              "    <th>0.162933</th>\n",
              "    <th>0.100000</th>\n",
              "  </tr>\n",
              "  <tr>\n",
              "    <th>47</th>\n",
              "    <th>0.400193</th>\n",
              "    <th>0.120634</th>\n",
              "    <th>0.100000</th>\n",
              "  </tr>\n",
              "  <tr>\n",
              "    <th>48</th>\n",
              "    <th>0.399157</th>\n",
              "    <th>0.121363</th>\n",
              "    <th>0.100000</th>\n",
              "  </tr>\n",
              "  <tr>\n",
              "    <th>49</th>\n",
              "    <th>0.391502</th>\n",
              "    <th>0.139125</th>\n",
              "    <th>0.100000</th>\n",
              "  </tr>\n",
              "  <tr>\n",
              "    <th>50</th>\n",
              "    <th>0.393059</th>\n",
              "    <th>0.120249</th>\n",
              "    <th>0.100000</th>\n",
              "  </tr>\n",
              "</table>\n"
            ],
            "text/plain": [
              "<IPython.core.display.HTML object>"
            ]
          },
          "metadata": {
            "tags": []
          }
        }
      ]
    },
    {
      "metadata": {
        "id": "yDoPNKvmJ4b_",
        "colab_type": "code",
        "colab": {}
      },
      "cell_type": "code",
      "source": [
        "#save model...\n",
        "learn.save('mod1')"
      ],
      "execution_count": 0,
      "outputs": []
    },
    {
      "metadata": {
        "id": "wq9KGKJXKlC3",
        "colab_type": "code",
        "outputId": "7c36134b-2565-4cf9-8938-a76093a41c27",
        "colab": {
          "base_uri": "https://localhost:8080/",
          "height": 703
        }
      },
      "cell_type": "code",
      "source": [
        "#retrain the whole network again not just the classifier \n",
        "# but we use a smaller learning rate at earlier layers to not mess them up \n",
        "learn.unfreeze() \n",
        "learn.fit_one_cycle(30, max_lr = slice(1e-5, 1e-3))"
      ],
      "execution_count": 0,
      "outputs": [
        {
          "output_type": "display_data",
          "data": {
            "text/html": [
              "Total time: 01:28 <p><table style='width:300px; margin-bottom:10px'>\n",
              "  <tr>\n",
              "    <th>epoch</th>\n",
              "    <th>train_loss</th>\n",
              "    <th>valid_loss</th>\n",
              "    <th>error_rate</th>\n",
              "  </tr>\n",
              "  <tr>\n",
              "    <th>1</th>\n",
              "    <th>0.444741</th>\n",
              "    <th>0.173712</th>\n",
              "    <th>0.100000</th>\n",
              "  </tr>\n",
              "  <tr>\n",
              "    <th>2</th>\n",
              "    <th>0.317997</th>\n",
              "    <th>0.063198</th>\n",
              "    <th>0.000000</th>\n",
              "  </tr>\n",
              "  <tr>\n",
              "    <th>3</th>\n",
              "    <th>0.290664</th>\n",
              "    <th>0.018954</th>\n",
              "    <th>0.000000</th>\n",
              "  </tr>\n",
              "  <tr>\n",
              "    <th>4</th>\n",
              "    <th>0.302934</th>\n",
              "    <th>0.012659</th>\n",
              "    <th>0.000000</th>\n",
              "  </tr>\n",
              "  <tr>\n",
              "    <th>5</th>\n",
              "    <th>0.347223</th>\n",
              "    <th>0.017276</th>\n",
              "    <th>0.000000</th>\n",
              "  </tr>\n",
              "  <tr>\n",
              "    <th>6</th>\n",
              "    <th>0.350271</th>\n",
              "    <th>0.022807</th>\n",
              "    <th>0.000000</th>\n",
              "  </tr>\n",
              "  <tr>\n",
              "    <th>7</th>\n",
              "    <th>0.404321</th>\n",
              "    <th>0.015714</th>\n",
              "    <th>0.000000</th>\n",
              "  </tr>\n",
              "  <tr>\n",
              "    <th>8</th>\n",
              "    <th>0.399727</th>\n",
              "    <th>0.097699</th>\n",
              "    <th>0.100000</th>\n",
              "  </tr>\n",
              "  <tr>\n",
              "    <th>9</th>\n",
              "    <th>0.368202</th>\n",
              "    <th>0.644835</th>\n",
              "    <th>0.200000</th>\n",
              "  </tr>\n",
              "  <tr>\n",
              "    <th>10</th>\n",
              "    <th>0.386600</th>\n",
              "    <th>0.894560</th>\n",
              "    <th>0.200000</th>\n",
              "  </tr>\n",
              "  <tr>\n",
              "    <th>11</th>\n",
              "    <th>0.401980</th>\n",
              "    <th>0.607531</th>\n",
              "    <th>0.200000</th>\n",
              "  </tr>\n",
              "  <tr>\n",
              "    <th>12</th>\n",
              "    <th>0.388034</th>\n",
              "    <th>0.532769</th>\n",
              "    <th>0.200000</th>\n",
              "  </tr>\n",
              "  <tr>\n",
              "    <th>13</th>\n",
              "    <th>0.408989</th>\n",
              "    <th>0.507130</th>\n",
              "    <th>0.200000</th>\n",
              "  </tr>\n",
              "  <tr>\n",
              "    <th>14</th>\n",
              "    <th>0.398946</th>\n",
              "    <th>0.472088</th>\n",
              "    <th>0.200000</th>\n",
              "  </tr>\n",
              "  <tr>\n",
              "    <th>15</th>\n",
              "    <th>0.417140</th>\n",
              "    <th>0.425552</th>\n",
              "    <th>0.200000</th>\n",
              "  </tr>\n",
              "  <tr>\n",
              "    <th>16</th>\n",
              "    <th>0.400968</th>\n",
              "    <th>0.362327</th>\n",
              "    <th>0.200000</th>\n",
              "  </tr>\n",
              "  <tr>\n",
              "    <th>17</th>\n",
              "    <th>0.402070</th>\n",
              "    <th>0.235263</th>\n",
              "    <th>0.200000</th>\n",
              "  </tr>\n",
              "  <tr>\n",
              "    <th>18</th>\n",
              "    <th>0.398633</th>\n",
              "    <th>0.114054</th>\n",
              "    <th>0.000000</th>\n",
              "  </tr>\n",
              "  <tr>\n",
              "    <th>19</th>\n",
              "    <th>0.403693</th>\n",
              "    <th>0.115522</th>\n",
              "    <th>0.100000</th>\n",
              "  </tr>\n",
              "  <tr>\n",
              "    <th>20</th>\n",
              "    <th>0.404657</th>\n",
              "    <th>0.114950</th>\n",
              "    <th>0.100000</th>\n",
              "  </tr>\n",
              "  <tr>\n",
              "    <th>21</th>\n",
              "    <th>0.399997</th>\n",
              "    <th>0.085403</th>\n",
              "    <th>0.100000</th>\n",
              "  </tr>\n",
              "  <tr>\n",
              "    <th>22</th>\n",
              "    <th>0.389386</th>\n",
              "    <th>0.059791</th>\n",
              "    <th>0.000000</th>\n",
              "  </tr>\n",
              "  <tr>\n",
              "    <th>23</th>\n",
              "    <th>0.398258</th>\n",
              "    <th>0.054868</th>\n",
              "    <th>0.000000</th>\n",
              "  </tr>\n",
              "  <tr>\n",
              "    <th>24</th>\n",
              "    <th>0.402917</th>\n",
              "    <th>0.034051</th>\n",
              "    <th>0.000000</th>\n",
              "  </tr>\n",
              "  <tr>\n",
              "    <th>25</th>\n",
              "    <th>0.401383</th>\n",
              "    <th>0.032542</th>\n",
              "    <th>0.000000</th>\n",
              "  </tr>\n",
              "  <tr>\n",
              "    <th>26</th>\n",
              "    <th>0.394692</th>\n",
              "    <th>0.031078</th>\n",
              "    <th>0.000000</th>\n",
              "  </tr>\n",
              "  <tr>\n",
              "    <th>27</th>\n",
              "    <th>0.378868</th>\n",
              "    <th>0.033534</th>\n",
              "    <th>0.000000</th>\n",
              "  </tr>\n",
              "  <tr>\n",
              "    <th>28</th>\n",
              "    <th>0.379463</th>\n",
              "    <th>0.036584</th>\n",
              "    <th>0.000000</th>\n",
              "  </tr>\n",
              "  <tr>\n",
              "    <th>29</th>\n",
              "    <th>0.378823</th>\n",
              "    <th>0.037354</th>\n",
              "    <th>0.000000</th>\n",
              "  </tr>\n",
              "  <tr>\n",
              "    <th>30</th>\n",
              "    <th>0.375593</th>\n",
              "    <th>0.038119</th>\n",
              "    <th>0.000000</th>\n",
              "  </tr>\n",
              "</table>\n"
            ],
            "text/plain": [
              "<IPython.core.display.HTML object>"
            ]
          },
          "metadata": {
            "tags": []
          }
        }
      ]
    },
    {
      "metadata": {
        "id": "DkrRQrKPK8lX",
        "colab_type": "code",
        "colab": {}
      },
      "cell_type": "code",
      "source": [
        "#since it had done better we save this model instead \n",
        "learn.save('mod2')"
      ],
      "execution_count": 0,
      "outputs": []
    },
    {
      "metadata": {
        "id": "-I70hgiiNXul",
        "colab_type": "code",
        "outputId": "98546eb5-4fd9-4c4e-ecaa-d07f17a3f640",
        "colab": {
          "resources": {
            "http://localhost:8080/nbextensions/google.colab/files.js": {
              "data": "Ly8gQ29weXJpZ2h0IDIwMTcgR29vZ2xlIExMQwovLwovLyBMaWNlbnNlZCB1bmRlciB0aGUgQXBhY2hlIExpY2Vuc2UsIFZlcnNpb24gMi4wICh0aGUgIkxpY2Vuc2UiKTsKLy8geW91IG1heSBub3QgdXNlIHRoaXMgZmlsZSBleGNlcHQgaW4gY29tcGxpYW5jZSB3aXRoIHRoZSBMaWNlbnNlLgovLyBZb3UgbWF5IG9idGFpbiBhIGNvcHkgb2YgdGhlIExpY2Vuc2UgYXQKLy8KLy8gICAgICBodHRwOi8vd3d3LmFwYWNoZS5vcmcvbGljZW5zZXMvTElDRU5TRS0yLjAKLy8KLy8gVW5sZXNzIHJlcXVpcmVkIGJ5IGFwcGxpY2FibGUgbGF3IG9yIGFncmVlZCB0byBpbiB3cml0aW5nLCBzb2Z0d2FyZQovLyBkaXN0cmlidXRlZCB1bmRlciB0aGUgTGljZW5zZSBpcyBkaXN0cmlidXRlZCBvbiBhbiAiQVMgSVMiIEJBU0lTLAovLyBXSVRIT1VUIFdBUlJBTlRJRVMgT1IgQ09ORElUSU9OUyBPRiBBTlkgS0lORCwgZWl0aGVyIGV4cHJlc3Mgb3IgaW1wbGllZC4KLy8gU2VlIHRoZSBMaWNlbnNlIGZvciB0aGUgc3BlY2lmaWMgbGFuZ3VhZ2UgZ292ZXJuaW5nIHBlcm1pc3Npb25zIGFuZAovLyBsaW1pdGF0aW9ucyB1bmRlciB0aGUgTGljZW5zZS4KCi8qKgogKiBAZmlsZW92ZXJ2aWV3IEhlbHBlcnMgZm9yIGdvb2dsZS5jb2xhYiBQeXRob24gbW9kdWxlLgogKi8KKGZ1bmN0aW9uKHNjb3BlKSB7CmZ1bmN0aW9uIHNwYW4odGV4dCwgc3R5bGVBdHRyaWJ1dGVzID0ge30pIHsKICBjb25zdCBlbGVtZW50ID0gZG9jdW1lbnQuY3JlYXRlRWxlbWVudCgnc3BhbicpOwogIGVsZW1lbnQudGV4dENvbnRlbnQgPSB0ZXh0OwogIGZvciAoY29uc3Qga2V5IG9mIE9iamVjdC5rZXlzKHN0eWxlQXR0cmlidXRlcykpIHsKICAgIGVsZW1lbnQuc3R5bGVba2V5XSA9IHN0eWxlQXR0cmlidXRlc1trZXldOwogIH0KICByZXR1cm4gZWxlbWVudDsKfQoKLy8gTWF4IG51bWJlciBvZiBieXRlcyB3aGljaCB3aWxsIGJlIHVwbG9hZGVkIGF0IGEgdGltZS4KY29uc3QgTUFYX1BBWUxPQURfU0laRSA9IDEwMCAqIDEwMjQ7Ci8vIE1heCBhbW91bnQgb2YgdGltZSB0byBibG9jayB3YWl0aW5nIGZvciB0aGUgdXNlci4KY29uc3QgRklMRV9DSEFOR0VfVElNRU9VVF9NUyA9IDMwICogMTAwMDsKCmZ1bmN0aW9uIF91cGxvYWRGaWxlcyhpbnB1dElkLCBvdXRwdXRJZCkgewogIGNvbnN0IHN0ZXBzID0gdXBsb2FkRmlsZXNTdGVwKGlucHV0SWQsIG91dHB1dElkKTsKICBjb25zdCBvdXRwdXRFbGVtZW50ID0gZG9jdW1lbnQuZ2V0RWxlbWVudEJ5SWQob3V0cHV0SWQpOwogIC8vIENhY2hlIHN0ZXBzIG9uIHRoZSBvdXRwdXRFbGVtZW50IHRvIG1ha2UgaXQgYXZhaWxhYmxlIGZvciB0aGUgbmV4dCBjYWxsCiAgLy8gdG8gdXBsb2FkRmlsZXNDb250aW51ZSBmcm9tIFB5dGhvbi4KICBvdXRwdXRFbGVtZW50LnN0ZXBzID0gc3RlcHM7CgogIHJldHVybiBfdXBsb2FkRmlsZXNDb250aW51ZShvdXRwdXRJZCk7Cn0KCi8vIFRoaXMgaXMgcm91Z2hseSBhbiBhc3luYyBnZW5lcmF0b3IgKG5vdCBzdXBwb3J0ZWQgaW4gdGhlIGJyb3dzZXIgeWV0KSwKLy8gd2hlcmUgdGhlcmUgYXJlIG11bHRpcGxlIGFzeW5jaHJvbm91cyBzdGVwcyBhbmQgdGhlIFB5dGhvbiBzaWRlIGlzIGdvaW5nCi8vIHRvIHBvbGwgZm9yIGNvbXBsZXRpb24gb2YgZWFjaCBzdGVwLgovLyBUaGlzIHVzZXMgYSBQcm9taXNlIHRvIGJsb2NrIHRoZSBweXRob24gc2lkZSBvbiBjb21wbGV0aW9uIG9mIGVhY2ggc3RlcCwKLy8gdGhlbiBwYXNzZXMgdGhlIHJlc3VsdCBvZiB0aGUgcHJldmlvdXMgc3RlcCBhcyB0aGUgaW5wdXQgdG8gdGhlIG5leHQgc3RlcC4KZnVuY3Rpb24gX3VwbG9hZEZpbGVzQ29udGludWUob3V0cHV0SWQpIHsKICBjb25zdCBvdXRwdXRFbGVtZW50ID0gZG9jdW1lbnQuZ2V0RWxlbWVudEJ5SWQob3V0cHV0SWQpOwogIGNvbnN0IHN0ZXBzID0gb3V0cHV0RWxlbWVudC5zdGVwczsKCiAgY29uc3QgbmV4dCA9IHN0ZXBzLm5leHQob3V0cHV0RWxlbWVudC5sYXN0UHJvbWlzZVZhbHVlKTsKICByZXR1cm4gUHJvbWlzZS5yZXNvbHZlKG5leHQudmFsdWUucHJvbWlzZSkudGhlbigodmFsdWUpID0+IHsKICAgIC8vIENhY2hlIHRoZSBsYXN0IHByb21pc2UgdmFsdWUgdG8gbWFrZSBpdCBhdmFpbGFibGUgdG8gdGhlIG5leHQKICAgIC8vIHN0ZXAgb2YgdGhlIGdlbmVyYXRvci4KICAgIG91dHB1dEVsZW1lbnQubGFzdFByb21pc2VWYWx1ZSA9IHZhbHVlOwogICAgcmV0dXJuIG5leHQudmFsdWUucmVzcG9uc2U7CiAgfSk7Cn0KCi8qKgogKiBHZW5lcmF0b3IgZnVuY3Rpb24gd2hpY2ggaXMgY2FsbGVkIGJldHdlZW4gZWFjaCBhc3luYyBzdGVwIG9mIHRoZSB1cGxvYWQKICogcHJvY2Vzcy4KICogQHBhcmFtIHtzdHJpbmd9IGlucHV0SWQgRWxlbWVudCBJRCBvZiB0aGUgaW5wdXQgZmlsZSBwaWNrZXIgZWxlbWVudC4KICogQHBhcmFtIHtzdHJpbmd9IG91dHB1dElkIEVsZW1lbnQgSUQgb2YgdGhlIG91dHB1dCBkaXNwbGF5LgogKiBAcmV0dXJuIHshSXRlcmFibGU8IU9iamVjdD59IEl0ZXJhYmxlIG9mIG5leHQgc3RlcHMuCiAqLwpmdW5jdGlvbiogdXBsb2FkRmlsZXNTdGVwKGlucHV0SWQsIG91dHB1dElkKSB7CiAgY29uc3QgaW5wdXRFbGVtZW50ID0gZG9jdW1lbnQuZ2V0RWxlbWVudEJ5SWQoaW5wdXRJZCk7CiAgaW5wdXRFbGVtZW50LmRpc2FibGVkID0gZmFsc2U7CgogIGNvbnN0IG91dHB1dEVsZW1lbnQgPSBkb2N1bWVudC5nZXRFbGVtZW50QnlJZChvdXRwdXRJZCk7CiAgb3V0cHV0RWxlbWVudC5pbm5lckhUTUwgPSAnJzsKCiAgY29uc3QgcGlja2VkUHJvbWlzZSA9IG5ldyBQcm9taXNlKChyZXNvbHZlKSA9PiB7CiAgICBpbnB1dEVsZW1lbnQuYWRkRXZlbnRMaXN0ZW5lcignY2hhbmdlJywgKGUpID0+IHsKICAgICAgcmVzb2x2ZShlLnRhcmdldC5maWxlcyk7CiAgICB9KTsKICB9KTsKCiAgY29uc3QgY2FuY2VsID0gZG9jdW1lbnQuY3JlYXRlRWxlbWVudCgnYnV0dG9uJyk7CiAgaW5wdXRFbGVtZW50LnBhcmVudEVsZW1lbnQuYXBwZW5kQ2hpbGQoY2FuY2VsKTsKICBjYW5jZWwudGV4dENvbnRlbnQgPSAnQ2FuY2VsIHVwbG9hZCc7CiAgY29uc3QgY2FuY2VsUHJvbWlzZSA9IG5ldyBQcm9taXNlKChyZXNvbHZlKSA9PiB7CiAgICBjYW5jZWwub25jbGljayA9ICgpID0+IHsKICAgICAgcmVzb2x2ZShudWxsKTsKICAgIH07CiAgfSk7CgogIC8vIENhbmNlbCB1cGxvYWQgaWYgdXNlciBoYXNuJ3QgcGlja2VkIGFueXRoaW5nIGluIHRpbWVvdXQuCiAgY29uc3QgdGltZW91dFByb21pc2UgPSBuZXcgUHJvbWlzZSgocmVzb2x2ZSkgPT4gewogICAgc2V0VGltZW91dCgoKSA9PiB7CiAgICAgIHJlc29sdmUobnVsbCk7CiAgICB9LCBGSUxFX0NIQU5HRV9USU1FT1VUX01TKTsKICB9KTsKCiAgLy8gV2FpdCBmb3IgdGhlIHVzZXIgdG8gcGljayB0aGUgZmlsZXMuCiAgY29uc3QgZmlsZXMgPSB5aWVsZCB7CiAgICBwcm9taXNlOiBQcm9taXNlLnJhY2UoW3BpY2tlZFByb21pc2UsIHRpbWVvdXRQcm9taXNlLCBjYW5jZWxQcm9taXNlXSksCiAgICByZXNwb25zZTogewogICAgICBhY3Rpb246ICdzdGFydGluZycsCiAgICB9CiAgfTsKCiAgaWYgKCFmaWxlcykgewogICAgcmV0dXJuIHsKICAgICAgcmVzcG9uc2U6IHsKICAgICAgICBhY3Rpb246ICdjb21wbGV0ZScsCiAgICAgIH0KICAgIH07CiAgfQoKICBjYW5jZWwucmVtb3ZlKCk7CgogIC8vIERpc2FibGUgdGhlIGlucHV0IGVsZW1lbnQgc2luY2UgZnVydGhlciBwaWNrcyBhcmUgbm90IGFsbG93ZWQuCiAgaW5wdXRFbGVtZW50LmRpc2FibGVkID0gdHJ1ZTsKCiAgZm9yIChjb25zdCBmaWxlIG9mIGZpbGVzKSB7CiAgICBjb25zdCBsaSA9IGRvY3VtZW50LmNyZWF0ZUVsZW1lbnQoJ2xpJyk7CiAgICBsaS5hcHBlbmQoc3BhbihmaWxlLm5hbWUsIHtmb250V2VpZ2h0OiAnYm9sZCd9KSk7CiAgICBsaS5hcHBlbmQoc3BhbigKICAgICAgICBgKCR7ZmlsZS50eXBlIHx8ICduL2EnfSkgLSAke2ZpbGUuc2l6ZX0gYnl0ZXMsIGAgKwogICAgICAgIGBsYXN0IG1vZGlmaWVkOiAkewogICAgICAgICAgICBmaWxlLmxhc3RNb2RpZmllZERhdGUgPyBmaWxlLmxhc3RNb2RpZmllZERhdGUudG9Mb2NhbGVEYXRlU3RyaW5nKCkgOgogICAgICAgICAgICAgICAgICAgICAgICAgICAgICAgICAgICAnbi9hJ30gLSBgKSk7CiAgICBjb25zdCBwZXJjZW50ID0gc3BhbignMCUgZG9uZScpOwogICAgbGkuYXBwZW5kQ2hpbGQocGVyY2VudCk7CgogICAgb3V0cHV0RWxlbWVudC5hcHBlbmRDaGlsZChsaSk7CgogICAgY29uc3QgZmlsZURhdGFQcm9taXNlID0gbmV3IFByb21pc2UoKHJlc29sdmUpID0+IHsKICAgICAgY29uc3QgcmVhZGVyID0gbmV3IEZpbGVSZWFkZXIoKTsKICAgICAgcmVhZGVyLm9ubG9hZCA9IChlKSA9PiB7CiAgICAgICAgcmVzb2x2ZShlLnRhcmdldC5yZXN1bHQpOwogICAgICB9OwogICAgICByZWFkZXIucmVhZEFzQXJyYXlCdWZmZXIoZmlsZSk7CiAgICB9KTsKICAgIC8vIFdhaXQgZm9yIHRoZSBkYXRhIHRvIGJlIHJlYWR5LgogICAgbGV0IGZpbGVEYXRhID0geWllbGQgewogICAgICBwcm9taXNlOiBmaWxlRGF0YVByb21pc2UsCiAgICAgIHJlc3BvbnNlOiB7CiAgICAgICAgYWN0aW9uOiAnY29udGludWUnLAogICAgICB9CiAgICB9OwoKICAgIC8vIFVzZSBhIGNodW5rZWQgc2VuZGluZyB0byBhdm9pZCBtZXNzYWdlIHNpemUgbGltaXRzLiBTZWUgYi82MjExNTY2MC4KICAgIGxldCBwb3NpdGlvbiA9IDA7CiAgICB3aGlsZSAocG9zaXRpb24gPCBmaWxlRGF0YS5ieXRlTGVuZ3RoKSB7CiAgICAgIGNvbnN0IGxlbmd0aCA9IE1hdGgubWluKGZpbGVEYXRhLmJ5dGVMZW5ndGggLSBwb3NpdGlvbiwgTUFYX1BBWUxPQURfU0laRSk7CiAgICAgIGNvbnN0IGNodW5rID0gbmV3IFVpbnQ4QXJyYXkoZmlsZURhdGEsIHBvc2l0aW9uLCBsZW5ndGgpOwogICAgICBwb3NpdGlvbiArPSBsZW5ndGg7CgogICAgICBjb25zdCBiYXNlNjQgPSBidG9hKFN0cmluZy5mcm9tQ2hhckNvZGUuYXBwbHkobnVsbCwgY2h1bmspKTsKICAgICAgeWllbGQgewogICAgICAgIHJlc3BvbnNlOiB7CiAgICAgICAgICBhY3Rpb246ICdhcHBlbmQnLAogICAgICAgICAgZmlsZTogZmlsZS5uYW1lLAogICAgICAgICAgZGF0YTogYmFzZTY0LAogICAgICAgIH0sCiAgICAgIH07CiAgICAgIHBlcmNlbnQudGV4dENvbnRlbnQgPQogICAgICAgICAgYCR7TWF0aC5yb3VuZCgocG9zaXRpb24gLyBmaWxlRGF0YS5ieXRlTGVuZ3RoKSAqIDEwMCl9JSBkb25lYDsKICAgIH0KICB9CgogIC8vIEFsbCBkb25lLgogIHlpZWxkIHsKICAgIHJlc3BvbnNlOiB7CiAgICAgIGFjdGlvbjogJ2NvbXBsZXRlJywKICAgIH0KICB9Owp9CgpzY29wZS5nb29nbGUgPSBzY29wZS5nb29nbGUgfHwge307CnNjb3BlLmdvb2dsZS5jb2xhYiA9IHNjb3BlLmdvb2dsZS5jb2xhYiB8fCB7fTsKc2NvcGUuZ29vZ2xlLmNvbGFiLl9maWxlcyA9IHsKICBfdXBsb2FkRmlsZXMsCiAgX3VwbG9hZEZpbGVzQ29udGludWUsCn07Cn0pKHNlbGYpOwo=",
              "ok": true,
              "headers": [
                [
                  "content-type",
                  "application/javascript"
                ]
              ],
              "status": 200,
              "status_text": ""
            }
          },
          "base_uri": "https://localhost:8080/",
          "height": 109
        }
      },
      "cell_type": "code",
      "source": [
        "#Upload individual test images...\n",
        "from google.colab import files\n",
        "files.upload()"
      ],
      "execution_count": 0,
      "outputs": [
        {
          "output_type": "display_data",
          "data": {
            "text/html": [
              "\n",
              "     <input type=\"file\" id=\"files-249c7d3c-b8d0-4b84-9486-efd6def2725b\" name=\"files[]\" multiple disabled />\n",
              "     <output id=\"result-249c7d3c-b8d0-4b84-9486-efd6def2725b\">\n",
              "      Upload widget is only available when the cell has been executed in the\n",
              "      current browser session. Please rerun this cell to enable.\n",
              "      </output>\n",
              "      <script src=\"/nbextensions/google.colab/files.js\"></script> "
            ],
            "text/plain": [
              "<IPython.core.display.HTML object>"
            ]
          },
          "metadata": {
            "tags": []
          }
        },
        {
          "output_type": "stream",
          "text": [
            "Saving test18.png to test18.png\n"
          ],
          "name": "stdout"
        },
        {
          "output_type": "execute_result",
          "data": {
            "text/plain": [
              "{'test18.png': b'\\x89PNG\\r\\n\\x1a\\n\\x00\\x00\\x00\\rIHDR\\x00\\x00\\x07\\x08\\x00\\x00\\x01\\x18\\x08\\x06\\x00\\x00\\x00H\\x95\\xa2\\'\\x00\\x00\\x17WIDATx\\x9c\\xed\\xdd\\xdb\\x96\\xa4(\\x16\\x00\\xd0\\x98Y\\xfd\\xff\\xbf\\\\\\xf3\\x90\\x93\\xab\\xa3mQ\\xaez\\x80\\xbd_\\xaa2C\\x11\\x10Q8\\x18\\xf9\\xf9\\x00\\x00\\x00\\x00\\x00\\x00\\x00\\x00\\x00\\x00\\x00\\x00\\x00\\x00\\x00\\x00\\x00\\x00\\x00\\x00\\x00\\x00\\x00\\x00\\x00\\x00\\x00\\x00\\x00\\x00\\x00\\x00\\x00\\x00\\x00\\x00\\x00\\x00\\x00\\x00\\x00\\x00\\x00\\x00\\x00\\x00\\x00\\x00\\x00\\x00\\x00\\x00\\x00\\x00\\x00\\x00\\x00\\x00\\x00\\x00\\x00\\x00\\x00\\x00\\x00\\x00\\x00\\x00\\x00\\x00\\x00\\x00\\x00\\x00\\x00\\x00\\x00\\x00\\x00\\x00\\x00\\x00\\x00\\x00\\x00\\x00\\x00\\x00\\x00\\x00\\x00\\x00\\x00\\x00\\x00\\x00\\x00\\x00\\x00\\x00\\x00\\x00\\x00\\x00\\x00\\x00\\x00\\x00\\x00\\x00\\x00\\x00\\x00\\x00\\x00\\x00\\x00\\x00\\x00\\x00\\x00\\x00\\x00\\x00\\x00\\x00\\x00\\x00\\x00\\x00\\x00\\x00\\x00\\x00\\x00\\x00\\x00\\x00\\x00\\x00\\x00\\x00\\x00\\x00\\x00\\x00\\x00\\x00\\x00\\x00\\x00\\x00\\x00\\x00\\x00\\x00\\x00\\x00\\x00\\x00\\x00\\x00\\x00\\x00\\x00\\x00\\x00\\x00\\x00\\x00\\x00\\x00\\x00\\x00\\x00\\x00\\x00\\x00\\x00\\x00\\x00\\x00\\x00\\x00\\x00\\x00\\x00\\x00\\x00\\x00\\x00\\x00\\x00\\x00\\x00\\x00\\x00\\x00\\x00\\x00\\x00\\x00\\x00\\x00\\x00\\x00\\x00\\x00\\x00\\x00\\x00\\x00\\x00\\x00\\x00\\x00\\x00\\x00\\x00\\x00\\x00\\x00\\x00\\x00\\x00\\x00\\x00\\x00\\x00\\x00\\x00\\x00\\x00\\x00\\x00\\x00\\x00\\x00\\x00\\x00\\x00\\x00\\x00\\x00\\x00\\x00\\x00\\x00\\x00\\x00\\x00\\x00\\x00\\x00\\x00\\x00\\x00\\x00\\x00\\x00\\x00\\x00\\x00\\x00\\x00\\x00\\x00\\x00\\x00\\x00\\x00\\x00\\x00\\x00\\x00\\x00\\x00\\x00\\x00\\x00\\x00\\x00\\x00\\x00\\x00\\x00\\x00\\x00\\x00\\x00\\x00\\x00\\x00\\x00\\x00\\x00\\x00\\x00\\x00\\x00\\x00\\x00\\x00\\x00\\x00\\x00\\x00\\x00\\x00\\x00\\x00\\x00\\x00\\x00\\x00\\x00\\x00\\x00\\x00\\x00\\x00\\x00\\x00\\x00\\x00\\x00\\x00\\x00\\x00\\x00\\x00\\x00\\x00\\x00\\x00\\x00\\x00\\x00\\x00\\x00\\x00\\x00\\x00\\x00\\x00\\x00\\x00\\x00\\x00\\x00\\x00\\x00\\x00\\x00\\x00\\x00\\x00\\x00\\x00\\x00\\x00\\x00\\x00\\x00\\x00\\x00\\x00\\x00\\x00\\x00\\x00\\x00\\x00\\x00\\x00\\x00\\x00\\x00\\x00\\x00\\x00\\x00\\x00\\x00\\x00\\x00\\x00\\x00\\x00\\x00\\x00\\x00\\x00\\x00\\x00\\x00\\x00\\x00\\x00\\x00\\x00\\x00\\x00\\x00\\x00\\x00\\x00\\x00\\x00\\x00\\x00\\x00\\x00\\x00\\x00\\x00\\x00\\x00\\x00\\x00\\x00\\x00\\x00\\x00\\x00\\x00\\x00\\x00\\x00\\x00\\x00\\x00\\x00\\x00\\x00\\x00\\x00\\x00\\x00\\x00\\x00\\x00\\x00\\x00\\x00\\x00\\x00\\x00\\x00\\x00\\x00\\x00\\x00\\x00\\x00\\x00\\x00\\x00\\x00\\x00\\x00\\x00\\x00\\x00\\x00\\x00\\x00\\x00\\x00\\x00\\x00\\x00\\x00\\x00\\x00\\x00\\x00\\x00\\x00\\x00\\x00\\x00\\x00\\x00\\x00\\x00\\x00\\x00\\x00\\x00\\x00\\x00\\x00\\x00\\x00\\x00\\x00\\x00\\x00\\x00\\x00\\x00\\x00\\x00\\x00\\x00\\x00\\x00\\x00\\x00\\x00\\x00\\x00\\x00\\x00\\x00\\x00\\x00\\x00\\x00\\x00\\x00\\x00\\x00\\x00\\x00\\x00\\x00\\x00\\x00\\x00\\x00\\x00\\x00\\x00\\x00\\x00\\x00\\x00\\x00\\x00\\x00\\x00\\x00\\x00\\x00\\x00\\x00\\x00\\x00\\x00\\x00\\x00\\x00\\x00\\x00\\x00\\x00\\x00\\x00\\x00\\x00\\x00\\x00\\x00\\x00\\x00\\x00\\x00\\x00\\x00\\x00\\x00\\x00\\x00\\x00\\x00\\x00\\x00\\x00\\x00\\x00\\x00\\x00\\x00\\x00\\x00\\x00\\x00\\x00\\x00\\x00\\x00\\x00\\x00\\x00\\x00\\x00\\x00\\x00\\x00\\x00\\x00\\x00\\x00\\x00\\x00\\x00\\x00\\x00\\x00\\x00\\x00\\x00\\x00\\x00\\x00\\x00\\x00\\x00\\x00\\x00\\x00\\x00\\x00\\x00\\x00\\x00\\x00\\x00\\x00\\x00\\x00\\x00\\x00\\x00\\x00\\x00\\x00\\x00\\x00\\x00\\x00\\x00\\x00\\x00\\x00\\x00\\x00\\x00\\x00\\x00\\x00\\x00\\x00\\x00\\x00\\x00\\x00\\x00\\x00\\x00\\x00\\x00\\x00\\x00\\x00\\x00\\x00\\x00\\x00\\x00\\x00\\x00\\x00\\x00\\x00\\x00\\x00\\x00\\x00\\x00\\x00\\x00\\x00\\x00L\\xe5\\xcf\\xe7\\xf3\\xe7\\xed<\\x00\\x00\\x00\\x00\\xb0\\xb7\\xff\\xbe\\x9d\\x01\\x00\\x80\\xdd\\t\\x1a\\x02\\x00\\x00\\x00\\xf0$\\x01B\\x00\\x00\\x00\\x00\\x00\\x00\\xd8\\x88\\x00!\\x00@0\\xde(\\x04\\x00\\x00\\x00`$\\x01B\\x00\\x80J\\xc7@\\x9e\\xc0\\x1e\\x00\\x00\\x00\\x003\\x10 \\x04\\x00\\xc8P\\x1b\\x0c\\x144\\x04\\x00\\x00\\x00 \\x1a\\x01B\\x00\\x96!\\x10\\x03\\x00\\x00\\x00\\x00pO\\x80\\x10\\x80\\xd0\\x04\\xfd\\xe0\\x9f\\\\\\x13\\x00\\x00\\x00\\x00\\xb4\\x12 \\x04 \\x8c\\x92\\xc0\\x87 \\t\\xab\\xd0\\x96\\x01\\x00\\x00\\x00x\\x9a\\x00!\\x00\\xe1\\xf4\\n\\x98\\x08\\xbcP\\xeb\\xcf\\xe7\\xf3\\xa7G\\xfb\\xe9\\x99\\x86\\xf6\\x0c\\x00\\x00\\x00@/\\x02\\x84\\x00\\xbcF\\xc0\\x83\\xdd\\x1d\\xaf\\x81\\xdck\\xc2\\xb5\\x03\\x00\\x00\\x00@\\x0b\\x01B\\x00\\x00\\x00\\x00\\x00\\x00\\xd8\\x88\\x00!\\x00\\x00\\x8f\\xf1\\xf6#\\x00\\x00\\x00\\xc0\\xfb\\x04\\x08\\x01\\x08O@\\x81\\x19\\xd5~}h\\x8fcEs\\x97\\xbf\\xb3\\xcf\\xa3\\x97\\t\\x98\\x93\\xbee\\xbc\\xdc>\\xdd\\xb9\\x00\\x00\\x80w\\t\\x10\\x020\\x85\\xdaI\\xa4\\x9a\\xfdLX\\xb1\\x02\\xed\\x18\\xe0\\x9a~\\x12\\x98\\x89>\\x0b\\x00\\xe8M\\x80\\x10\\x80*\\xa5o\\x04\\xfd\\xfe\\xdc:\\xb0M\\xedo\\xc0L$9\\xed\\xb1\\xa4\\xcdj\\xdf?\\xfe|>\\x7f\\xd4\\x05\\x00\\x00\\x00@;\\x01B\\x00\\x86\\xe9\\x1d$\\x01\\xd6U\\x13\\xfc\\xeb\\xb5\\xf0\\x00\\x80\\xbe\\xf4\\xcbm\\xd4\\x1f\\x00\\x00O\\x10 \\x04\\xd8\\\\\\x8f\\t\\x88\\xabIz\\x13\\x1c0\\x86k\\xeb\\x87z\\x00`ug\\x8bh\\x9e\\xfc\\xfa\\xfdU\\xedV\\x17\\xbb\\x95\\x17\\x00\\xb8\\'@\\x08\\x00lo\\xd6\\t\\x93^\\x93\\x85o\\x18\\xf5\\x86\\xb1\\xb7\\na}=\\x177\\x01D5\\xba\\x9f\\xd2\\x0f\\x02\\x00\\x02\\x84\\x00d\\x199\\x80\\xac\\xfdZA 6\\xd7*\\xc0Z\\xf4\\xeb\\xb19?\\xfbq\\xce\\x01\\x80\\x16\\x02\\x84\\x00\\x1b\\xcb\\xf9J\\xd0\\xabA\\xa7\\x01)\\xfcX\\xfdZ\\xb8\\xea+\\xbc\\xb1\\x07\\xb0\\xb7\\x96\\xb7\\xbd\\x9f:\\xde\\xaa\\xd4E\\xbd\\xdc\\xba{\\xab\\x8ek\\xc7`\\xad\\xf9\\xd5\\xa6\\x00`/\\x02\\x84\\x00\\x14\\xbb\\x1b8>=\\xb04\\x90\\x85g\\xcdv\\xcd\\tb\\xc2\\x9a\\xce\\xfe.\\xdb\\xf7g9\\xdb\\x01s\\x19\\xf9\\xb7\\x17\\xf5\\x13\\x00\\xc0n\\x04\\x08\\x01xE\\xc4\\xd5\\xb8\\x90k\\xc6v\\x94\\xf3\\xc60@t\\xfa-V\\xd6\\xf2V\\x9bk\\xe3o\\xa3\\xdfP\\x1dQ\\xd7\\xbd\\x173\\xf5Z$\\xa1]\\x01\\xc0\\xda\\x04\\x08\\x01xL\\xef\\x01\\xe6\\x93\\x03V\\x83cV\\x903\\xf9\\xd4:A\\xe5Z\\x01\\xde4r\\xe2\\x9e\\xf1F\\x04G\"\\x11\\xd8K\\xab\\xa9\\x9b\\xdf\\xc0W\\x84:|#\\x0f\\xc7 `\\xcf\\xf4\\x00\\x80=\\x08\\x10\\x02\\xf0/;\\x0f\\x0ew.;\\xb1\\x8c\\x9a\\xe8\\x19\\xbd\\xaa\\xbew:\\xaeIXSk?\\xb0z \\x89\\x1f+\\x9e\\x9f\\x19\\xbfEc\\xe6\\xf30s\\xde#\\x8a\\x12\\x90\\x05\\x00\\xfa\\x10 \\x04\\xa0\\x8bY\\x07\\x8a\\xfe\\x1e\\t\\xa5fk\\x0f#\\xf3\\x9bJ{\\xc4\\xdb\\xc2O\\xbc\\x81\\xec\\xcd\\x0e\\x88\\xeb\\x8d\\xb7\\x9a]\\xffe\\xa2\\xd7\\xd7\\xe8\\xfc\\x8dJ?z\\xbdF\\x92[Wo}\\xab\\xc9\\xa8~L\\x1b\\x01\\x00j\\t\\x10\\x02ld\\x86\\xb7vf\\x1f\\xe0ZU;\\x17\\x01!\\x80X\\xae\\xfa\\xe0\\xbb\\xcf~?/\\xed\\xc7\\xcf\\xbe\\xa6o\\xf7{A\\xedW7\\x1e\\xb7\\x7f\\xea>[\\xdbn\\x9e\\xe4M\\xd8|-u\\x15\\xa5.\\xce\\xfa\\x95\\xbb\\xedj>\\xef\\xb5\\x0f\\x00\\xb0\\'\\x01B\\x00\\xa8$\\x18\\xc8\\x08o\\xb4\\xa9\\x9c\\t\\xddU\\xedTV\\x88(u/}\\xf3\\x1e\\xfb\\xd4\\xdb\\xd1Q\\xcdV\\xce\\x88\\xf9\\xcd\\xc9S\\xc4|\\xbf!\\xca\\xf3t\\x84<<\\xe5\\xad7(\\x01\\x80x\\x04\\x08\\x016c\\x00\\xf7o\\xa3W\\xb7\\xab\\xf3\\xb99\\x7f?v\\xae\\x87\\x9d\\xcb\\x0e3+Y\\xfc\\x90\\x1b\\xa4\\xd8yA\\xc5Q\\xef\\xc0N\\x84\\x052\\xbd\\xd3\\xde\\xa9}\\xecT\\xd6\\x1a\\xdeT\\x06\\x00\"\\x12 \\x04\\xe0\\x96\\xc1\\xeb\\x8f\\xd9\\'\\xc1\\xf8\\x9b\\xfa\\x8fk\\xd4[\\x17%\\x93qw\\x8b\\x06\\xb4\\x1f\\xa8Wz\\xfd\\xbc}\\xbd\\x99\\xc8\\x8f\\xe3,8\\x9b\\xfb\\xd5\\x8d9_\\xe3Xr\\x8egj\\x0fo\\xe65u\\xcej\\xf3\\x14\\xa1\\xdes\\xdaR\\x8ftzY-\\xf0\\x0e\\x00\\xf4%@\\x08\\xc0\\x92r\\'\\x8c\\x9eb\\xa0\\x1c\\xc3\\xca\\xe7!j\\xd9FM\\xae\\xf7H\\xaf%\\x8d\\xbb\\xb7\\x88z\\xa6\\r3\\xbb\\x0b\\xb8_\\xfd\\xae\\xe5\\x18=\\xb7\\xdfE\\xa4g\\xa7\\xa8\\xe7\\xe8\\x89|\\xb5\\x1e\\xa3\\xd7B\\x9b\\xdc\\xe0^\\xef\\xe0kd\\xb3\\x95c\\xb6\\xfc\\x02\\x00\\xcf\\x13 \\x04`\\x1b&\\x10\\xf9|bM\\x80\\xde\\x89\\x96\\x9f;\\xbd\\xf2;[\\xb9\\x7f\\xbd\\x1d\\xb4\\x84hj\\xef\\xbb3\\\\\\x073\\xe4q\\x94\\x11e\\x8fR\\x9f\\xbd\\x83\\xd7\\xbd\\xf3R\\x9b\\xc6\\xd3\\xe5\\xea\\x15\\xa4|S\\xf4{z\\xefg\\xae\\xe8\\xe7\\x03\\x00\\x18C\\x80\\x10`a\\x06z\\x7f\\x9b\\xa1.f\\xc8\\xe3\\x8crV\\xb6?\\x95\\x977\\x8f\\xf9\\xb4\\x08e|*\\x0f\\xb9\\xc79\\x9b\\x84\\x8bPO\\xf0\\x94U\\xdb{\\xaa\\\\\\xab\\x96\\x97\\x7f\\x8a\\xf8v\\xa56\\xf9\\x9c\\x88\\xcf\\x99\\x11\\xecZn\\x00\\x98\\x8d\\x00!\\xc0\\xe2J\\'\\xae\\xc9\\x13}U1k}\\xa5\\xd5\\x13f\\xaf\\xab^\\x93\\xa1\\xbd\\xeb\\xe1\\x98^I\\xfa-\\xfb\\xc2\\x9b\\xce\\xda\\xeeJ\\xedw\\xa5\\xb2|>{\\x068J\\x83lQ\\xea \\xd2\\xc2\\x97\\xd1o%\\x8eh\\x97\\x02\\xa7\\xf5V\\xeb\\xc7\\x01\\x80\\x1f\\x02\\x84\\x00\\x14\\x05\\x11W\\x1d\\x18\\xaeZ.\\x9e\\xa3\\r\\xbd\\xef\\xe9\\xaf\\xc9\\xea59z\\xd6\\xb7jO\\xcc\\xaa\\xe4:\\\\\\xa9\\x9d\\xb7\\x04\\xff#y\\xe3m\\xb8h\\xf5\\x11-?wF\\xe67\\xc2\\xf9i9\\xfe\\xe8\\xbc\\xbf]7-J\\x02\\xb0W\\xdb\\xf6X\\x885s=\\x02\\xc0\\xec\\x04\\x08\\x01\\xd8\\x96\\xc1\\xe8>Z\\'\\xaa\\xb5\\x951\\xa2\\xd4k\\xf4\\t\\xc4\\xabI\\xba\\x9c\\x89\\xb6\\xdc\\xc9\\xb8\\xd5\\xdf\\xfa\\x82\\xde\\\\\\x1fyj\\xeb\\xa96\\x90\\xf0F\\x9f\\xde\\xfa\\xb6\\xdb\\xdb\\xfd\\xed\\x88\\xfb\\xd4\\xe8\\xc0\\xe5\\x13\\xfb\\xbeuNf\\xed[\\xae\\xae\\x8dY\\xcb\\x04\\x00\\xab\\x13 \\x04\\xd8\\x90\\x01Z\\\\\\xde\"\\x02r\\x8d\\x9a\\xe4\\x14,\\xa7\\xd4opc\\xf7\\xf6qU\\x07\\x91\\xea\\xa7\\xc7\\x84\\xfd\\x93e\\x89Tw\\xbdD-On\\xbeF\\x05}R\\xe7\\xbag\\x00\\xf3\\t=\\x83\\xe2O\\x88\\x16\\xc4\\x8fz}\\x00\\xc0\\x8a\\x04\\x08\\x01\\x08k\\xb6\\xc1a\\xe9\\xa4J\\xee\\xef\\x04\\r\\xfb\\x88Po#\\xf2\\x10\\xa1\\\\\\xb9f\\xcb\\xeb\\x88I\\xca^\\xe9\\xa4\\xf26\\xaa\\x8e\\xcf\\xfa!o\\x05\\xb0b\\xe0f4\\xd7M\\x1f=\\x02\\x13O\\x9d\\x03\\xe7\\xfa\\xc7\\xe8z\\x18\\xf9\\xbc\\x1c\\xe9\\x1cF\\xca\\xcb\\x93\\x8c\\x87\\x00`\\x0c\\x01\\xc2\\xff\\x8b\\xf6p\\xf1\\xc6\\xc0\\x05\\x98\\xdfl\\xabkgTZG\\xa3V\\xc8\\x1a$\\x9fS\\x0f?fY)?\\x9bU\\xcb\\xb9j\\xb9\\xe8\\xeb;\\xb0%0x\\xed\\x18@O\\xd5\\xd5Y\\xb0\\xf0\\xadz\\xdd}\\x01K\\x8d\\xbb\\xf3:\\xf2\\x18#\\xd2\\x7f\\xe3|Eh#\\x11\\xf2\\xb0\\xba\\xab:N-\\x9ap^\\x80\\x91<\\xcb\\xc2\\xdf\\x96\\t\\x10\\x1e/\\xec\\xe3\\xff[V\\x13\\xe6\\xec\\xdfz\\xfc\\xbb\\x07\\xf3\\x9c\\xcfS\\x83\\xd0\\xd6\\xfc\\xe7h\\xe9T\\xef\\xf2[\\x93\\xf7^e\\xa9\\xb9ax\\xb0\\xfd\\xb7\\xde\\x83\\xe4\\x9e\\x03\\xd9\\x15\\xcf\\xcf\\x8ae\"\\xbe\\xd6\\xfb@k\\x1a=\\xf3\\xb3\\x9b\\xbbI\\x1b\\xf7\\xb5k9\\x93^o\\xc99\\x7f\\xad\\x13sg\\xf7\\xe4\\xd43)}\\xf5z\\xfeN=[\\x1d\\xb7i=&\\xe7\\xae\\xea\\xfe\\xec\\x1c\\xd4\\xa4{u,\\xae\\xa9\\xa7==}\\xdeWmg\\xbd\\x9e\\x91R\\xdb\\xe6\\xcc\\x15\\xe5\\x1e\\x03\\xd8G\\xcd\\xf3\\xd0\\xf1\\xb9\\x0cV\\xf2\\xd7\\xdb\\x19\\x18\\xe9\\xcf\\xe7\\xf3\\xe7?\\x9f\\xcf\\x7f\\xce~\\xff\\xf9|>g\\x9f}\\x7f\\xde\\xba\\xffU\\xbe\\xbe\\xf7\\xbf:\\xde\\xd5$N\\xea\\xf89\\xfb\\xe7\\xe6\\xff\\xb8\\xfd\\xd9\\xfe\\xc7<}\\x97\\xefj\\xfb\\x92\\xfc\\x1f\\xd3\\xae\\xdd\\xff\\xf8\\xffT~\\xce\\xb69\\x96-g\\xffT\\xfd\\xe7\\xe4=\\xb5_\\xaa\\xfd\\\\\\xa5Y\\xba\\xffU\\x1d\\xdd\\xed\\x9f\\xfa\\xf9*\\xad\\xab\\xe3_\\x95/\\xa7}\\xa4\\xda\\xf0\\xf7\\xffK\\xceoN\\xfb>\\xbb\\x8e\\xcf>\\xafi\\x0f\\xa9\\xb6Y\\xba\\x1f\\xef\\xe8q\\xbe\\xce\\xee1\\xa9{C\\xce\\xf5\\xd6[\\xe9\\xbd\\xe0\\x98\\xd7c\\x1a\\xa9\\x7f\\x8f\\xc7=^\\xd3#\\xcb\\xd7c\\x9b\\x91\\xae\\xda\\xc8\\xdd\\xef\\x88\\'\\xb7]\\x97\\x9c\\xcf\\xab4\\xef\\xfa\\x98\\xd2c\\x9c\\xedw\\xd6O\\x1d\\xd5\\xdc\\xebVs\\xd5\\x8f\\x1e\\xcfI\\xaao\\xcc=F\\xee\\xff\\x19\\xe7\\xaa\\x9e\\xaf\\xae\\xc1\\xbbg\\xea\\xde\\xf9l\\x151OPc\\x87\\xb6\\x1c\\xad\\x8c\\xb9c\\xa4\\xb3\\xb1\\xfe\\xf76w\\xe3\\xfd\\xd2\\xf1\\xf91M\\xe0y9\\xd7bm\\x9fv5wqw\\xcc\\xa8v\\x1d_qnh\\x8005Q\\xf9\\xf9\\xa4\\x07\\xb1\\xb5\\x83\\xdb\\xe3q\\xef\\xfe\\x7f\\x96\\xbf\\x92\\xb4\\xbe\\xf7O\\xe5\\xb7u2.w\\xdb\\x92\\xe3\\x1f?/\\xcd\\x7f\\xabc}\\xf6\\x9c\\xfc)9\\x9fg\\xdb\\x96\\x9e\\x9b\\x92\\xfd\\xaf\\xae\\x85+\\xa57\\xb6\\xd6\\xf6uv~j\\xdbwM\\x99\\xef\\xae\\xb7\\xbb\\xfdK\\xf2W\\xb3oI\\xfb\\xba\\xfb\\xfc\\xac\\xed\\x97\\xe4\\xef*\\xc0\\x99\\x9b\\xdf\\xe8\\xa2\\rH\\xdf\\x96\\xeawJ\\x02\\x899\\x9f\\xb58\\xbb\\x06J\\xaf\\xe5c\\x1a\\xa9\\x7fS\\xfb\\xc1\\xccj\\xefS\\xb9\\xf7\\xbc^\\xd7Ik\\xffR\\xb3M\\xf4k\\xbc\\xc7\\x18&\\xa5\\xf6|\\xb3\\x87\\x99\\xae\\x95\\'\\xf2\\xd6\\xab\\x0fz:m\\xd8\\xd1Y\\xff\\x953\\x87p5\\xd6\\xc8M\\xf7l\\xfc|w\\xdco-\\xf3I\\xdfi\\xb4\\xf4\\x19\\xb9\\xfb\\xe7lw\\xb5M\\xef|\\xde\\xa5\\x97\\xb3}I~K\\xf3\\x7f\\xb7\\x7f\\x8f\\xfc_\\xed\\xd3z\\xfc\\x91z-B\\x1a\\xd9\\xf6\\x8fu\\x95\\x93\\xde\\xb1\\x8fH\\xa5w\\xb5\\xff\\xf1xgi\\x96\\x96\\xb9w\\xdb9\\xcbw\\xcb\\xfe5\\xf9-\\xc9\\x7f\\xa9\\xde\\xd7\\xca\\x13\\xd7~\\x14SO\\x1e\\xff\\xfa\\xbe\\xe8\\xce\\x1aU\\xe9j\\xa1\\xdc\\xfd\\xcf:\\x9d\\x9a\\xfd[\\x7f>\\x1e\\xef\\xec\\xf8\\xa9\\x0e2\\xa7\\x13H\\xed\\x7f\\xb5}*\\xbf\\xa9\\x9bI\\xe9\\xcd\\xf0\\xae~\\xee\\xf2vU\\xfe\\xdc\\xfdS\\xe5)9~\\x8ec\\xfb\\xcem\\x1f\\xa9\\xb4Ry:\\x96\\xe7\\xee\\x18=\\xdb\\xf3U\\xfb,9\\xbf9\\xc7;\\xba\\xda\\xff\\xac>r\\xce\\xc5\\xd9\\xf6W\\xfb\\xe7\\xb8\\xaa\\xfb\\xbb\\xf2\\xf6\\xba)=ys\\x1bu\\xac\\x9c\\xfe;u\\xfc\\x92\\xedr\\xf7\\x1d\\xf9\\xbb\\xab\\xfe\\xaa\\xb7\\xdf\\xf4\\xcf\\xda\\xf8\\xd9y\\xbc\\xbb.\\xbf\\xb7;\\xa6}\\x95\\xee\\xf7>=\\xcaU\\x93v\\xafmj\\xd5\\xa6\\x9d\\xdb\\x96gRr}\\xd6\\xfc\\xae\\xb5?\\xa9\\xe9Kj\\xcb\\xd9\\xf3\\\\\\xd6\\xe4\\xfdx\\xef:\\xbb?~o{v\\xdc\\xd4\\xbdvU\\xbd\\xee\\xdb\\xbd\\xd2\"\\xbe\\x92g\\xc0\\x9a>\\xa1\\xb5\\x1f\\x99\\xf9\\x9e\\xb2\\xe2=\\xf2(5\\xaeX\\xa9\\x8c\\xb5z>[\\xf5\\xda/\\xda\\xb99\\x1b\\xa3\\xa6~NmS\\xfa<u6.\\xb8;v\\xce\\xf8\\xb9t\\x8c^;\\xbe\\x07\\xc6;\\xbbw\\xe7n\\x9b\\xbb\\xdfY\\x1a-\\xfd\\xca\\x9bf\\xcb/\\xfd,\\xfd\\x15\\xa3\\xa3\\xddM|\\xe6\\xec\\x9f\\x93^\\xe9\\xfeg\\xc7O}\\xf6\\xfd\\xf3\\xddg\\xc7\\xfd\\xaf\\xb6/M?u\\xbc\\x92\\xe3_\\x957\\xb5\\xed]zw\\xc7H\\xfd\\xee\\xec\\xf8\\xb5\\x0f\\xf0\\xa9<\\xe6\\xd4\\x7fnZ\\xa9\\xfdk\\xdbK\\xe9\\xcf\\xa5\\xe7\\xa7\\xa6}\\x1c\\x7f.\\xbd\\x1e\\xee\\xf2s\\x97\\xff\\xdc}RZ\\xda\\xea\\xd9\\xb6\\x91\\x06\\x94Q\\xcd\\\\O5\\xfdC\\xef\\xe3\\xde\\xf5\\xbf\\xbf\\x9f\\xdd\\r\\xac\\x8f\\xe9\\xe4\\xa4\\x0b\\xbd\\xb5\\xb6\\xb7^\\xfdIM:W\\xf7\\xa8QA\\xc4\\xd24K\\x9fav\\x90S\\xde\\xef\\x89\\xd1\\xd2\\xbe\\xf6\\xec\\xf7\\xdf\\x9f\\xf1\\xbe\\xef\\xeb\\xe7\\xea>\\x993FJ\\x9d\\xe3\\xef6p\\x9ch\\x8fl\\x96|\\xe6\\x9a\\xbd<\\xb3\\xe7\\x9fz\\xa3\\xcf\\xfd\\xdd\\xb3J\\xee\\xb8 \\x95\\xcf\\x96\\xf1y\\x8f\\xfd\\x81\\xb1z\\xcc\\x93\\x95\\xa6Q\\xbbo\\x04\\xb3\\xe5\\x97~\\xfe\\xfbv\\x06z8\\xde\\x94S\\x0f\\t\\xdf\\x9f\\xa5~w\\xdc?\\xf5\\xd9\\xd5\\xfe9i\\xe7\\x94\\xa5\\xf7\\xe7=&\\xb7Fn\\x7f\\xb6\\x7f\\xc9\\x03W\\xe9\\xf6\\xa5i\\x95\\xd6\\xfd\\xec7\\x86\\xe8Z\\xcfw\\xe9\\xf9\\x9d\\xd5\\xaa\\xe5\\x8anT\\xbd\\xa7\\xda\\xfd\\xdb\\x83\\xd3\\xd6\\xfe\\xb6G:\\xad\\xa2]+\\xd1\\xf2\\xb3\\x93\\x9c\\xba\\xefy~z\\x9f\\xeb\\xd4s\\xf0\\xf7\\xe7\\xb9\\xc7,y\\xae\\xbc\\xeb\\x9f\\xae\\x9e\\xd1\\xa9SR\\x9fW\\xe3\\x9dT\\x9aW\\xe7\\xf0,]\\xea\\x94\\xd4\\xf9Y}\\x97\\x8eQr\\xf7+MoT\\x1a=\\xfa\\xab\\x9a\\xe3\\xd6\\x88x=\\xb4\\xe6\\xe9\\xad2E\\xac\\xcb\\x1ef,W\\xb4<\\xf7\\xea\\xbb\\xa2\\x95\\x0b\\x88e\\xe5yB8Z\"@xe\\xe6\\x8b9g@X\\xb2?@\\x8e^\\xc1\\x9e^\\xa2\\xf7c#\\xf3\\x17a\\xb2kF%A\\r\\xde\\xb3\\xda\\xa4\\xe3S\\xe5\\xb9\\x0b\\xc2\\xd5\\xa4\\xd5\\x1a`hy^%\\x9e\\xab6\\xf6\\xfb\\x7f\\xe7\\xf9\\\\\\xaa\\xee\\xee\\xea\\xd15\\xf4#J\\xd9\\xa3\\xe4c73\\x07pwn3\\xbd\\xca^\\xb2\\x98!\\xe7\\xb9e\\xe7s\\x02\\xd4\\xa9\\x1dS\\xc1\\xec\\x96\\x0f\\x10\\x02\\xec\\xc8\\n\\xc9\\xd8j\\x07\\xba\\xe3r\\x04c\\xf5n\\xbf\\xb9\\xe9\\xcdt\\xdd<11\\x9a\\xdb\\xf7\\x9c\\x05.R\\xc1\\x0c\\xf6\\xa5=\\xa4\\xa9\\x93\\xf1j\\x9e\\xa5r\\xd3\\xe9\\xb9}\\x04%\\x81\\x17\\x9e\\x15\\xf9\\x1c\\xf4\\xba\\xc6J\\xd2(yV\\x01\\x18A\\x7f\\xc3\\x8e\\x04\\x08\\x01\\x80\\xe5\\xac\\x18@\\xa2\\xbf7\\xdeV\\xc89\\xe6[\\x93cV\\xdcS\\xeb\\xb7\\xed\\\\\\x05\\rwi[\\xd1\\xdfl\\x11,\\xba\\xd6\\xbb~V|\\x1e\\xa9\\xbd\\x8f=\\xe9\\xed\\xe3G0\\xaa\\x0e\\xdeZ\\xf4\\x05\\x00\\x8c!@\\x08\\xb0(\\x83\\xad\\xe7\\xa8\\xeb\\x98\\xbc\\xddR\\xe6nE\\xf7\\x93y\\xd9\\xc1S\\x01\\xbf\\xd1\\xc7\\x80\\x94\\x1d\\xda\\xdf\\x0ee\\xa4\\xcc\\x0c\\xc1\\xf1\\x19\\x02|Q\\xadZ/\\x16\\x0e\\x00\\xc0\\xbe\\x04\\x08\\x016\\xf7\\xf4\\xc0\\xef\\xa9\\xe3\\xbd1\\xa0\\x9daRh7\\xdf\\xf5\\xef\\\\\\x8c\\x13\\xadn{\\xe6\\'Z\\xd9Rf\\xc9\\'\\x8c\\x10\\xa1\\xfd\\xe7\\xbc9\\xf8T^\\xf8\\xd1\\xf2Fk\\xeb\\x9b\\x9eW\\xfb\\xaf\\xde\\x16<\\x0f\\xc7\\xf7\\xc6\":\\xed\\x02\\x00b\\x12 \\x04\\xd8\\xc8n\\x13\\x15\\xb3\\x96\\xeb\\xed\\xaf\\x1f[]i\\xfd\\xae~.\\xa2\\x97/7\\xc8\\xbb\\xc2\\xe4\\xfc1\\x8f\\xbfmu\\x86\\xbc\\xc3\\xaf\\xb3kv\\xb5\\xe7\\x8fc\\x19g.\\xdf\\x0c\\x0b*\\xdeL\\xb7\\xe5\\xbe3\\xab\\xdc2\\xafZ\\xfeoo\\x04\\xd2\\xae\\xf2\\xd1\\xba\\r\\x00\\xc0\\x91\\x00!\\xc0\\x86\\xa2\\x0cv[D\\xcf{\\xf4\\xfc\\xed\\xc6\\xf9\\xa8\\x93\\nX=u\\xbc\\xdc}Z\\xf34c\\xfb\\x981\\xcfP\\xea\\xcdv\\xbe\\xc2\\xa2\\x83]\\x94.\\xfa\\xe9}\\xeeF\\xb4\\x85\\xd6\\xa0s\\x84\\xf6\\xdb#\\xb8:[\\xd0\\xb9\\xe68Q\\xfa\\x92\\x19\\xae\\x0b\\x00\\xa0?\\x01B\\x00\\x8a\\x19\\xf0\\xd59\\xab7uID\\x11&\\xe5g~#g4u\\xc0\\xacr\\x833\\xda\\xf8~z.^+Mc\\xe6\\x85&g\\x0by\\xde8nm\\x1a\\xbd\\xde\\xe2|:\\xe0\\xd8\\x92N\\x84<\\xbce\\xc6<\\x03\\xc0\\xea\\x04\\x08\\x01\\xe0e\\x06\\xcb\\xf3\\x9b\\xe9\\x1c\\x8e~\\x0b\\xb0D\\x94|\\x9c\\x89\\x9c7\\x98\\x89`?o\\x88\\xf6\\xb6{\\xd4\\xe3<y\\x1dF|\\x1b\\xf0\\xec\\x99\\xa8&\\xc0\\xdc3O=\\xf6O\\xa5\\xd3\\xeb\\xcdR\\xfd7\\x00\\xacC\\x80\\x10`\\x13;\\x0c\\xe4\\x9e\\x9cH\\xa9=\\xd6\\x0e\\xe7a\\x16\\xde\\xe8\\x1c\\xa3\\xa6\\x0eg\\x0f \\xe4L\\xc0E\\n\\xcc\\xc2\\xdb\\xbe\\xaf\\x85\\x92\\xb7\\x86{L\\xdc\\xe7\\xa4\\xd3r\\xcc\\x95\\xe4\\xbc\\xb95*\\xfd\\x88F\\xe4\\xb7$\\xcd\\xdcv\\xdb\\xeb:\\xe9\\xa1&/\\xadA\\xac\\x95\\x02\\xb8o\\xe8Y\\xaeU\\xeb\\x08\\x00V\"@\\x08\\x00\\x83\\x18\\x14\\x13A\\xaf\\xc0\\x94\\xf6\\x0cD\\xd2\\xbbO\\x1a\\x15|\\x99UN9Wx\\xfb\\xec\\xc9c\\xac\\xd8vj\\xdaI\\xcb\"\\xbb\\x9eA\\xd0\\xde\\x8b\\xfdfY\\x08T{\\xcef(\\x1b\\x00PN\\x80\\x10\\x80\\xcf\\xe7\\x93\\x1e\\xbc\\x1b\\x0c\\xc6\\x9b$cN\\x11\\xda\\xc8So?\\xd4\\x1c\\'B\\xfd\\xdc9\\x9b \\xab}C)\\xb5\\xcd\\x0c\\xf5\\x00\\xa3\\xbc\\xd5\\xfe]w\\xfft|\\x83\\xf2\\xf8L\\x98\\xfa\\xfc,\\x9d\\xd5\\xeb\\xf6\\xcd\\xc0\\xe5\\xeau\\xdbKn=Em\\xaf\\xa3\\xf24b\\xac\\x17\\xb1\\xfe\\x00\\x80k\\x02\\x84\\x00\\x9b\\xba\\x9a\\x98\\x8e\\x16\\x10\\xcbY\\xd5_\\x92\\x9f\\xd4\\xf6\\x06\\xb5{\\xea\\xb5\\xb2\\xbdw\\x1a\\xd1\\xe5^w\\xea\\x13\\xa8\\xd1\\xeb\\xba/yF\\xd0\\xd7\\xbc#7\\x00\\xe6\\xfc\\xfc\\xed\\x18\\xa4}3/\\xbfr\\xae\\xb5\\'\\x83\\x9dQ\\xea%\\xd7\\xe8@\\xe0h\\xb3\\xd57\\x00\\xf0C\\x80\\x10\\x80\\xa4\\x96\\x81\\xde\\xa8\\xc0A\\x84\\xc1g\\x84<0\\xd6\\xd59\\x8e\\x14\\x1c\\xef\\xb5\\xcf\\x08&v\\x81\\x1a\\xa9\\x05<9\\x8b\\x98F/Z\\xd8\\xa1\\x1f\\xeb\\x19\\x98\\xadM\\xbfe\\x01J\\xf4\\xb7\\xed\\xa2\\xe4\\xa3Tm\\xe0\\xaf%\\xed\\x95\\xea\\xea\\xd8\\xa6K\\x177\\xd6\\x1cs\\xb4Y\\xcf\\x0f\\x00\\xf0O\\x02\\x84\\x00\\x14\\xe95\\x88O\\x05\\x0f\\xde\\n\\xbe\\xa4\\x8eo\\xf0K4\\xa3\\xdf\\x84yb\\xf2\\xbc\\xc7u\\xe5\\xda\\x84u\\xf4\\x9e(\\xef\\x1d\\xe4\\xd2\\xdfP\"J{\\x89\\x92\\x8fQfyf\\x8f\\x9a/\\x00\\x80\\xcfG\\x80\\x10\\x80\\x0cW\\xc1\\xb3\\xab\\xd5\\xdb\\xa3W\\xf2\\xe7\\xa6\\xf9F\\xa0\\x84\\xf9<}\\xbe{\\x05\\xc9\\xb4S\\x80\\xb1o8q\\xefl\\xd1U\\xee\\xf6;h]@\\x13\\xa1\\xbe\"\\xe4\\xa1\\xd4\\x8cy.\\x95\\xfbf\\xe2\\x0eu\\x01\\x00\\x94\\x13 \\x04`\\xb8\\xdf\\xc1\\xea\\x88\\xc9;\\x13\\x82<!z;\\xaa\\x99\\x0c\\x8a^\\xa67\\xa8\\x13\\xd8\\xcf,o!\\xcdbt\\xfd\\x95\\x9e\\xaf\\xa8\\xe73j\\xbe\\xf8\\x11e\\x01V\\xafE\\x8e\\x11\\xca\\x02\\x00\\xc4$@\\x08@\\xb3\\xabU\\xe3V\\x913\\xab^\\xab\\xb0\\xcf\\xd2I\\xfd\\xdc\\xebZ\\xb8z\\xb3\\xb7t\\xbf\\x99\\xb4\\xbe\\xa1\\x01\\xacc\\xd6\\xc0\\xd1\\x8a,V)\\xa3N\\xfe\\xed\\xe9\\xc0\\xf3\\xd3z?\\x07\\x02\\x00\\xe4\\x12 \\x04\\xe0qo|\\xcd\\x92\\x017\\xbd==\\x993\\xe28;\\x04\\rSV-\\x17\\xec\\xa4\\xf4:v\\xdd\\x13\\x89\\xf6\\xd8\\xdf\\xc8\\xe7\\x9a\\xda\\xc5W\\xbd\\xe4,8\\x03\\x00(%@\\x08\\x00\\x90i\\xe4\\xc4\\x8cI\\x9ex\\x9c\\x13\\x80~\\xf4\\xa9\\x00\\x00\\x10\\x8b\\x00!\\x00\\xd3z{%/\\x9c\\xe9\\xdd\\x06\\xaf\\xbe\\xc2\\x17`G\\xfaBv\\xa6\\xfd\\xef\\xa1\\xe77\\xa9\\x00\\x00\\xa4\\xfc\\xf5v\\x06\\x00\\x00V020\\x18M\\xe4\\xbc\\x1d\\xf9\\xbb\\x84\\x00\\xcc\\xa0\\xe5>4\\xf2\\x1e\\xe6\\xfe\\x08\\x00\\xb0.o\\x10\\x02\\x00\\x0c0zB\\xcd\\xdf\\xa1\\x01\\xd0\\xf7A\\x0e\\xd7\\t\\x00\\x00g\\x04\\x08\\x01\\x00\\x06\\xd9iB.JY\\xa3\\xe4\\x03\\x88O\\x7fAt\\xfe\\xd61\\x00\\x00#\\t\\x10\\x02\\x10\\x92I\\x0c\\x00\\x00\\x00\\x00\\x801\\x04\\x08\\x01\\x00\\x98\\x92\\x85\\x04\\x00\\x00\\x00\\x00u\\xfez;\\x03\\x00\\x90C \\x00\\xf6\\xa6\\x0f\\x00\\x00\\x00\\x00\\xe8\\xc7\\x1b\\x84\\x00\\x00/Y=\\xe8U[\\xbe\\xd5\\xeb\\x05\\x00\\x00\\x00\\xe0m\\x02\\x84\\x00\\x00\\x93\\x11@\\x03\\x00\\x00\\x00\\xa0\\x85\\x00!\\x00\\xc0C\\xce\\x02{\\xbb\\x05\\xfbv+/\\x00\\x00\\x00\\x00\\x00\\x00\\\\\\xfa\\xf3\\xf9\\xfcy;\\x0f\\x00\\x00\\x00\\x00\\xac\\xcd\\x1b\\x84\\x00\\x00\\x00\\x00\\x00\\x00\\x00\\x00\\x00\\x00\\x00\\x00\\x00\\x00\\x00\\x00\\x00\\x00\\x00\\x00\\x00\\x00\\x00\\x00\\x00\\x00\\x00\\x00\\x00\\x00\\x00\\x00\\x00\\x00\\x00\\x00\\x00\\x00\\x00\\x00\\x00\\x00\\x00\\x00\\x00\\x00\\x00\\x00\\x00\\x00\\x00\\x00\\x00\\x00\\x00\\x00\\x00\\x00\\x00\\x00\\x00\\x00\\x00\\x00\\x00\\x00\\x00\\x00\\x00\\x00\\x00\\x00\\x00\\x00\\x00\\x00\\x00\\x00\\x00\\x00\\x00\\x00\\x00\\x00\\x00\\x00\\x00\\x00\\x00\\x00\\x00\\x00\\x00\\x00\\x00\\x00\\x00\\x00\\x00\\x00\\x00\\x00\\x00\\x00\\x00\\x00\\x00\\x00\\x00\\x00\\x00\\x00\\x00\\x00\\x00\\x00\\x00\\x00\\x00\\x00\\x00\\x00\\x00\\x00\\x00\\x00\\x00\\x00\\x00\\x00\\x00\\x00\\x00\\x00\\x00\\x00\\x00\\x00\\x00\\x00\\x00\\x00\\x00\\x00\\x00\\x00\\x00\\x00\\x00\\x00\\x00\\x00\\x00\\x00\\x00\\x00\\x00\\x00\\x00\\x00\\x00\\x00\\x00\\x00\\x00\\x00\\x00\\x00\\x00\\x00\\x00\\x00\\x00\\x00\\x00\\x00\\x00\\x00\\x00\\x00\\x00\\x00\\x00\\x00\\x00\\x00\\x00\\x00\\x00\\x00\\x00\\x00\\x00\\x00\\x00\\x00\\x00\\x00\\x00\\x00\\x00\\x00\\x00\\x00\\x00\\x00\\x00\\x00\\x00\\x00\\x00\\x00\\x00\\x00\\x00\\x00\\x00\\x00\\x00\\x00\\x00\\x00\\x00\\x00\\x00\\x00\\x00\\x00\\x00\\x00\\x00\\x00\\x00\\x00\\x00\\x00\\x00\\x00\\x00\\x00\\x00\\x00\\x00\\x00\\x00\\x00\\x00\\x00\\x00\\x00\\x00\\x00\\x00\\x00\\x00\\x00\\x00\\x00\\x00\\x00\\x00\\x00\\x00\\x00\\x00\\x00\\x00\\x00\\x00\\x00\\x00\\x00\\x00\\x00\\x00\\x00\\x00\\x00\\x00\\x00\\x00\\x00\\x00\\x00\\x00\\x00\\x00\\x00\\x00\\x00\\x00\\x00\\x00\\x00\\x00\\x00\\x00\\x00\\x00\\x00\\x00\\x00\\x00\\x00\\x00\\x00\\x00\\x00\\x00\\x00\\x00\\x00\\x00\\x00\\x00\\x00\\x00\\x00\\x00\\x00\\x00\\x00\\x00\\x00\\x00\\x00\\x00\\x00\\x00\\x00\\x00\\x00\\x00\\x00\\x00\\x00\\x00\\x00\\x00\\x00\\x00\\x00\\x00\\x00\\x00\\x00\\x00\\x00\\x00\\x00\\x00\\x00\\x00\\x00\\x00\\x00\\x00\\x00\\x00\\x00\\x00\\x00\\x00\\x00\\x00\\x00\\x00\\x00\\x00\\x00\\x00\\x00\\x00\\x00\\x00\\x00\\x00\\x00\\x00\\x00\\x00\\x00\\x00\\x00\\x00\\x00\\x00\\x00\\x00\\x00\\x00\\x00\\x00\\x00\\x00\\x00\\x00\\x00\\x00\\x00\\x00\\x00\\x00\\x00\\x00\\x00\\x00\\x00\\x00\\x00\\x00\\x00\\x00\\x00\\x00\\x00\\x00\\x00\\x00\\x00\\x00\\x00\\x00\\x00\\x00\\x00\\x00\\x00\\x00\\x00\\x00\\x00\\x00\\x00\\x00\\x00\\x00\\x00\\x00\\x00\\x00\\x00\\x00\\x00\\x00\\x00\\x00\\x00\\x00\\x00\\x00\\x00\\x00\\x00\\x00\\x00\\x00\\x00\\x00\\x00\\x00\\x00\\x00\\x00\\x00\\x00\\x00\\x00\\x00\\x00\\x00\\x00\\x00\\x00\\x00\\x00\\x00\\x00\\x00\\x00\\x00\\x00\\x00\\x00\\x00\\x00\\x00\\x00\\x00\\x00\\x00\\x00\\x00\\x00\\x00\\x00\\x00\\x00\\x00\\x00\\x00\\x00\\x00\\x00\\x00\\x00\\x00\\x00\\x00\\x00\\x00\\x00\\x00\\x00\\x00\\x00\\x00\\x00\\x00\\x00\\x00\\x00\\x00\\x00\\x00\\x00\\x00\\x00\\x00\\x00\\x00\\x00\\x00\\x00\\x00\\x00\\x00\\x00\\x00\\x00\\x00\\x00\\x00\\x00\\x00\\x00\\x00\\x00\\x00\\x00\\x00\\x00\\x00\\x00\\x00\\x00\\x00\\x00\\x00\\x00\\x00\\x00\\x00\\x00\\x00\\x00\\x00\\x00\\x00\\x00\\x00\\x00\\x00\\x00\\x00\\x00\\x00\\x00\\x00\\x00\\x00\\x00\\x00\\x00\\x00\\x00\\x00\\x00\\x00\\x00\\x00\\x00\\x00\\x00\\x00\\x00\\x00\\x00\\x00\\x00\\x00\\x00\\x00\\x00\\x00\\x00\\x00\\x00\\x00\\x00\\x00\\x00\\x00\\x00\\x00\\x00\\x00\\x00\\x00\\x00\\x00\\x00\\x00\\x00\\x00\\x00\\x00\\x00\\x00\\x00\\x00\\x00\\x00\\x00\\x00\\x00\\x00\\x00\\x00\\x00\\x00\\x00\\x00\\x00\\x00\\x00\\x00\\x00\\x00\\x00\\x00\\x00\\x00\\x00\\x00\\x00\\x00\\x00\\x00\\x00\\x00\\x00\\x00\\x00\\x00\\x00\\x00\\x00\\x00\\x00\\x00\\x00\\x00\\x00\\x00\\x00\\x00\\x00\\x00\\x00\\x00\\x00\\x00\\x00\\x00\\x00\\x00\\x00\\x00\\x00\\x00\\x00\\x00\\x00\\x00\\x00\\x00\\x00\\x00\\x00\\x00\\x00\\x00\\x00\\x00\\x00\\x00\\x00\\x00\\x00\\x00\\x00\\x00\\x00\\x00\\x00\\x00\\x00\\x00\\x00\\x00\\x00\\x00\\x00\\x00\\x00\\x00\\x00\\x00\\x00\\x00\\x00\\x00\\x00\\x00\\x00\\x00\\x00\\x00\\xc4\\xf2?=\\xa4\\x90\\xeb}\\xeb\\x9e\\x1c\\x00\\x00\\x00\\x00IEND\\xaeB`\\x82'}"
            ]
          },
          "metadata": {
            "tags": []
          },
          "execution_count": 122
        }
      ]
    },
    {
      "metadata": {
        "id": "6Z6F_JxdOYB-",
        "colab_type": "code",
        "colab": {}
      },
      "cell_type": "code",
      "source": [
        "#export the model for production... \n",
        "learn.export()"
      ],
      "execution_count": 0,
      "outputs": []
    },
    {
      "metadata": {
        "id": "-A1YWNTBXFfb",
        "colab_type": "code",
        "colab": {}
      },
      "cell_type": "code",
      "source": [
        "p = '/content/test18.png' "
      ],
      "execution_count": 0,
      "outputs": []
    },
    {
      "metadata": {
        "id": "J4uPezEQLaYX",
        "colab_type": "code",
        "colab": {}
      },
      "cell_type": "code",
      "source": [
        "#move to the cpu and pass the img to the model... \n",
        "defaults.device = torch.device('cpu')\n",
        "img = open_image(p) \n",
        "learn = load_learner(path)"
      ],
      "execution_count": 0,
      "outputs": []
    },
    {
      "metadata": {
        "id": "hmWeomEGVQrh",
        "colab_type": "code",
        "outputId": "9ca47104-ac01-4e60-f4a5-5413a483e70d",
        "colab": {
          "base_uri": "https://localhost:8080/",
          "height": 34
        }
      },
      "cell_type": "code",
      "source": [
        "#finally predict the class \n",
        "pred_class,pred_idx,outputs = learn.predict(img)\n",
        "pred_class"
      ],
      "execution_count": 0,
      "outputs": [
        {
          "output_type": "execute_result",
          "data": {
            "text/plain": [
              "Category Mohamed"
            ]
          },
          "metadata": {
            "tags": []
          },
          "execution_count": 125
        }
      ]
    },
    {
      "metadata": {
        "id": "r8y_o5gsMrN7",
        "colab_type": "code",
        "colab": {}
      },
      "cell_type": "code",
      "source": [
        ""
      ],
      "execution_count": 0,
      "outputs": []
    }
  ]
}